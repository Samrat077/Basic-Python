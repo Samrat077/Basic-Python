{
 "cells": [
  {
   "cell_type": "code",
   "execution_count": 21,
   "id": "c42f9d28",
   "metadata": {},
   "outputs": [
    {
     "name": "stdout",
     "output_type": "stream",
     "text": [
      "Enter: 7583\n",
      "The length of num is 4.\n"
     ]
    }
   ],
   "source": [
    "try:\n",
    "    x=int(input(\"Enter: \"))\n",
    "    _str = str(x)\n",
    "    _len=len(_str)\n",
    "    print(f\"The length of num is {_len}.\")\n",
    "except ValueError:\n",
    "    print(\"The input is wrong.\")\n",
    "    "
   ]
  },
  {
   "cell_type": "code",
   "execution_count": 20,
   "id": "ecc25226",
   "metadata": {},
   "outputs": [
    {
     "name": "stdout",
     "output_type": "stream",
     "text": [
      "Enter: ugho\n",
      "The input is wrong.\n"
     ]
    }
   ],
   "source": [
    "#we can also programe in this way too \n",
    "try:\n",
    "    x=int(input(\"Enter: \"))\n",
    "    _str = str(x)\n",
    "    _len=len(_str)\n",
    "except ValueError:\n",
    "    print(\"The input is wrong.\")\n",
    "    \n",
    "#if there is valueError then the x will not de defined and it will create problem \n",
    "else:\n",
    "    print(f\"The length of num is {_len}.\")"
   ]
  },
  {
   "cell_type": "code",
   "execution_count": 23,
   "id": "05a06367",
   "metadata": {},
   "outputs": [
    {
     "name": "stdout",
     "output_type": "stream",
     "text": [
      "Enter: bhbjhdg\n",
      "The input is wrong.\n",
      "Enter: 64jafj\n",
      "The input is wrong.\n",
      "Enter: 75849\n",
      "The length of num is 5.\n"
     ]
    }
   ],
   "source": [
    "#forcing user to try to entre correct value\n",
    "while True:\n",
    "    try:\n",
    "        x=int(input(\"Enter: \"))\n",
    "        _str = str(x)\n",
    "        _len=len(_str)\n",
    "    except ValueError:\n",
    "        print(\"The input is wrong.\")\n",
    "#if there is correct value the loop will break\n",
    "    else:\n",
    "        break\n",
    "        \n",
    "print(f\"The length of num is {_len}.\")"
   ]
  },
  {
   "cell_type": "code",
   "execution_count": null,
   "id": "94e8fe8b",
   "metadata": {},
   "outputs": [],
   "source": []
  }
 ],
 "metadata": {
  "kernelspec": {
   "display_name": "Python 3 (ipykernel)",
   "language": "python",
   "name": "python3"
  },
  "language_info": {
   "codemirror_mode": {
    "name": "ipython",
    "version": 3
   },
   "file_extension": ".py",
   "mimetype": "text/x-python",
   "name": "python",
   "nbconvert_exporter": "python",
   "pygments_lexer": "ipython3",
   "version": "3.9.7"
  }
 },
 "nbformat": 4,
 "nbformat_minor": 5
}

{
 "cells": [
  {
   "cell_type": "markdown",
   "id": "071a6323",
   "metadata": {},
   "source": [
    "# Object Oriented Programming"
   ]
  },
  {
   "cell_type": "code",
   "execution_count": null,
   "id": "f5901b11",
   "metadata": {},
   "outputs": [],
   "source": [
    "class Student:\n",
    "    def __init__(self,name,age,grade):\n",
    "        self.name=name\n",
    "        self.age=age\n",
    "        self.grade=grade\n",
    "        \n",
    "    def get_grade(self):\n",
    "        return self.grade\n",
    "    \n",
    "class Course:\n",
    "    def __init__(self,name,max_students):\n",
    "        self.name=name\n",
    "        self.max_students=max_students\n",
    "        self.students=[]\n",
    "        \n",
    "    def add_student(self,student):\n",
    "            if len(self.students) < self.max_students:\n",
    "                self.students.append(student)\n",
    "                return True\n",
    "            return False\n",
    "        \n",
    "    def average_grade(self):\n",
    "            pass\n",
    "        \n",
    "studentA = Student(\"rijan\",19,75)\n",
    "studentB = Student(\"ddmkcnjkd\",19,75)\n",
    "studentC = Student(\"xbnz \",19,65)\n",
    "\n",
    "course = Course(\"AI\",10)\n",
    "course.add_student(studentA)\n",
    "course.add_student(studentB)\n",
    "print(course.students[1].name)\n"
   ]
  },
  {
   "cell_type": "code",
   "execution_count": 15,
   "id": "f77630c8",
   "metadata": {},
   "outputs": [
    {
     "name": "stdout",
     "output_type": "stream",
     "text": [
      "Suzuki 2022\n"
     ]
    }
   ],
   "source": [
    "class car:  \n",
    "    def __init__(self, model_name, year):  \n",
    "        self.model_name = model_name  \n",
    "        self.year = year  \n",
    "    def display(self):  \n",
    "        print(self.model_name, self.year)  \n",
    "\n",
    "c = car(\"Suzuki\", 2022)  \n",
    "c.display()  "
   ]
  },
  {
   "cell_type": "code",
   "execution_count": 16,
   "id": "3f3bde82",
   "metadata": {},
   "outputs": [
    {
     "name": "stdout",
     "output_type": "stream",
     "text": [
      "ID: 1000 \n",
      "Name: Reba\n"
     ]
    }
   ],
   "source": [
    "class Student:    \n",
    "    id = 1000   \n",
    "    name = \"Reba\"    \n",
    "    def display (self):    \n",
    "        print(\"ID: %d \\nName: %s\"%(self.id, self.name))    \n",
    "\n",
    "# Creating a stu instance of Employee class  \n",
    "stu = Student()    \n",
    "stu.display()   "
   ]
  },
  {
   "cell_type": "code",
   "execution_count": 18,
   "id": "302365b2",
   "metadata": {},
   "outputs": [
    {
     "name": "stdout",
     "output_type": "stream",
     "text": [
      "Height of Ram is 6\n",
      "Weight of Ram is 60\n",
      "Ram is eating Pizza\n",
      "Height of Steve is 5.9\n",
      "Weight of Steve is 56\n",
      "Steve is eating Big Burger\n"
     ]
    }
   ],
   "source": [
    "class Human:\n",
    "    # instance attributes\n",
    "    def __init__(self, name, height, weight):\n",
    "        self.name = name\n",
    "        self.height = height\n",
    "        self.weight = weight\n",
    "\n",
    "    # instance methods (behaviours)\n",
    "    def eating(self, food):\n",
    "        return \"{} is eating {}\".format(self.name, food)\n",
    "\n",
    "\n",
    "# creating objects of class Human\n",
    "ram = Human(\"Ram\", 6, 60)\n",
    "steve = Human(\"Steve\", 5.9, 56)\n",
    "\n",
    "# accessing object information\n",
    "print(\"Height of {} is {}\".format(ram.name, ram.height))\n",
    "print(\"Weight of {} is {}\".format(ram.name, ram.weight))\n",
    "print(ram.eating(\"Pizza\"))\n",
    "print(\"Height of {} is {}\".format(steve.name, steve.height))\n",
    "print(\"Weight of {} is {}\".format(steve.name, steve.weight))\n",
    "print(steve.eating(\"Big Burger\"))"
   ]
  },
  {
   "cell_type": "code",
   "execution_count": 1,
   "id": "6b5e2eeb",
   "metadata": {},
   "outputs": [
    {
     "name": "stdout",
     "output_type": "stream",
     "text": [
      "Please Enter Employee ID to know the details: D011\n",
      "Name:Rijan Rayamajhi\n",
      "Age:23\n",
      "Job:AI developer\n"
     ]
    }
   ],
   "source": [
    "\n",
    "\n",
    "class Employee():\n",
    "    def __init__(self,ID,name,age,job_title):\n",
    "        self.ID=ID\n",
    "        self.name = name\n",
    "        self.age = age\n",
    "        self.job_title = job_title\n",
    "        \n",
    "    def _name(self):\n",
    "        print(f\"Name:{self.name}\")\n",
    "    def _age(self):\n",
    "        print(f\"Age:{self.age}\")\n",
    "    def _job_title(self):\n",
    "        print(f\"Job:{self.job_title}\")\n",
    "        \n",
    "details =Employee(\"D011\",\"Rijan Rayamajhi\",23,\"AI developer\")\n",
    "while True:\n",
    "    x = input(\"Please Enter Employee ID to know the details: \")\n",
    "    if (x == details.ID):\n",
    "        break\n",
    "    print(\"NO Employee\")\n",
    "    \n",
    "if (x == details.ID):\n",
    "    details._name()\n",
    "    details._age()\n",
    "    details._job_title()\n",
    "else:\n",
    "    pass\n",
    "        "
   ]
  },
  {
   "cell_type": "markdown",
   "id": "dc0fe9e0",
   "metadata": {},
   "source": [
    "# Error Handling"
   ]
  },
  {
   "cell_type": "code",
   "execution_count": 8,
   "id": "6e2decff",
   "metadata": {},
   "outputs": [
    {
     "name": "stdout",
     "output_type": "stream",
     "text": [
      "f\n",
      "Please enter the correct value\n",
      "4\n",
      "Thanks for entering the int value correctly.\n"
     ]
    }
   ],
   "source": [
    "while True:\n",
    "    try:\n",
    "        x=int(input())\n",
    "    except ValueError:\n",
    "        print(\"Please enter the correct value\")\n",
    "    else:\n",
    "        print(\"Thanks for entering the int value correctly.\")\n",
    "        break\n"
   ]
  },
  {
   "cell_type": "code",
   "execution_count": 100,
   "id": "6d62eb5d",
   "metadata": {},
   "outputs": [
    {
     "name": "stdout",
     "output_type": "stream",
     "text": [
      "First value: 5\n",
      "Second value: 0\n",
      "Infinite division  did you mean? 'b/a' \n",
      "\"Y\" for yes \n",
      "\"N\" for no \n",
      "N\n"
     ]
    }
   ],
   "source": [
    "\n",
    "while True:\n",
    "    try:\n",
    "        a=int(input(\"First value: \"))\n",
    "        b=int(input(\"Second value: \"))\n",
    "        print(a/b)\n",
    "    except ValueError:\n",
    "        print(\"Invilid Value\")\n",
    "    except ZeroDivisionError:\n",
    "        print(\"Infinite division , did you mean? 'b/a' \")\n",
    "        user=input('\"Y\" for yes \\n\"N\" for no \\n')\n",
    "        if user == \"Y\":\n",
    "            print(b/a)\n",
    "        break\n",
    "    else:\n",
    "        pass"
   ]
  },
  {
   "cell_type": "code",
   "execution_count": null,
   "id": "85ab7c30",
   "metadata": {},
   "outputs": [],
   "source": []
  },
  {
   "cell_type": "markdown",
   "id": "b9f6527c",
   "metadata": {},
   "source": [
    "# Data Slicing"
   ]
  },
  {
   "cell_type": "code",
   "execution_count": 85,
   "id": "f1e59778",
   "metadata": {},
   "outputs": [
    {
     "name": "stdout",
     "output_type": "stream",
     "text": [
      "['1', '2']\n",
      "['1', '2', '3']\n",
      "['4', '5']\n",
      "['3', '4', '5']\n",
      "['3', '4']\n"
     ]
    }
   ],
   "source": [
    "x=[\"1\",\"2\",\"3\",\"4\",\"5\"]\n",
    "\n",
    "print(x[:2])\n",
    "print(x[:-2]) \n",
    "print(x[-2:])\n",
    "print(x[2:])\n",
    "\n",
    "print(x[2:4])"
   ]
  },
  {
   "cell_type": "markdown",
   "id": "c4080bf0",
   "metadata": {},
   "source": [
    "# DocString"
   ]
  },
  {
   "cell_type": "code",
   "execution_count": 114,
   "id": "17e9a2eb",
   "metadata": {},
   "outputs": [
    {
     "name": "stdout",
     "output_type": "stream",
     "text": [
      "\n",
      "    This is the finction to call user name\n",
      "    \n",
      "rijan\n"
     ]
    }
   ],
   "source": [
    "def function(name):\n",
    "    \"\"\"\n",
    "    This is the finction to call user name\n",
    "    \"\"\"\n",
    "    print(name)\n",
    "\n",
    "print(function.__doc__)\n",
    "function(\"rijan\")\n",
    "    \n"
   ]
  },
  {
   "cell_type": "code",
   "execution_count": 126,
   "id": "8a3cd54e",
   "metadata": {},
   "outputs": [
    {
     "name": "stdout",
     "output_type": "stream",
     "text": [
      "29\n",
      "68\n"
     ]
    }
   ],
   "source": [
    "def add(a,b=0):\n",
    "    return a+b\n",
    "\n",
    "x=29\n",
    "y=39\n",
    "\n",
    "result=add(x)\n",
    "_result=add(x,y)\n",
    "print(result)\n",
    "print(_result)\n",
    "    "
   ]
  },
  {
   "cell_type": "code",
   "execution_count": null,
   "id": "c512b7ce",
   "metadata": {},
   "outputs": [],
   "source": []
  }
 ],
 "metadata": {
  "kernelspec": {
   "display_name": "Python 3 (ipykernel)",
   "language": "python",
   "name": "python3"
  },
  "language_info": {
   "codemirror_mode": {
    "name": "ipython",
    "version": 3
   },
   "file_extension": ".py",
   "mimetype": "text/x-python",
   "name": "python",
   "nbconvert_exporter": "python",
   "pygments_lexer": "ipython3",
   "version": "3.9.7"
  }
 },
 "nbformat": 4,
 "nbformat_minor": 5
}

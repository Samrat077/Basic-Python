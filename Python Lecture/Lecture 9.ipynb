{
 "cells": [
  {
   "cell_type": "code",
   "execution_count": 12,
   "id": "840896ff",
   "metadata": {
    "scrolled": true
   },
   "outputs": [
    {
     "name": "stdout",
     "output_type": "stream",
     "text": [
      "The factors of 50 are:\n",
      "Factor 1 is ODD\n",
      "Factor 5 is ODD\n",
      "Factor 25 is ODD\n"
     ]
    }
   ],
   "source": [
    "\n",
    "num = 50\n",
    "\n",
    "print('The factors of', num, 'are:')\n",
    "for i in range(1, num+1):\n",
    "    if(num % i) == 0:\n",
    "        if (i%2)!=0:\n",
    "            print(\"Factor\",i,\"is ODD\")\n",
    "        else:\n",
    "            pass\n",
    "             "
   ]
  },
  {
   "cell_type": "code",
   "execution_count": 23,
   "id": "7bb15f41",
   "metadata": {
    "scrolled": true
   },
   "outputs": [
    {
     "name": "stdout",
     "output_type": "stream",
     "text": [
      "['Welcome', 'To', 'Alliance', 'Uni']\n",
      "['Alliance', 'To', 'Uni', 'Welcome']\n",
      "number = 50\n"
     ]
    }
   ],
   "source": [
    "string = \"Welcome To Alliance Uni\"\n",
    "string_list = string.split(\" \")\n",
    "print(string_list)\n",
    "l=0\n",
    "for i in string_list:\n",
    "string_list.sort()\n",
    "print(string_list)\n",
    "print(\"number = 50\")"
   ]
  },
  {
   "cell_type": "code",
   "execution_count": 22,
   "id": "3c1b2c7a",
   "metadata": {},
   "outputs": [
    {
     "name": "stdout",
     "output_type": "stream",
     "text": [
      "Letters: 3\n",
      "Digits: 4\n"
     ]
    }
   ],
   "source": [
    "string= \"sdf4343\"\n",
    "d=l=0\n",
    "\n",
    "for i in string:\n",
    "    if i.isdigit():\n",
    "        d=d+1\n",
    "    elif i.isalpha():\n",
    "        l=l+1\n",
    "    else:\n",
    "        pass\n",
    "print(\"Letters:\",l)\n",
    "print(\"Digits:\",d)"
   ]
  },
  {
   "cell_type": "code",
   "execution_count": 32,
   "id": "ae1d38b0",
   "metadata": {},
   "outputs": [
    {
     "name": "stdout",
     "output_type": "stream",
     "text": [
      "200,202,204,206,208,220,222,224,226,228,240,242,244,246,248,260,262,264,266,268,280,282,284,286,288,400\n"
     ]
    }
   ],
   "source": [
    "items=[]\n",
    "for i in range(100,401):\n",
    "    a= str(i)\n",
    "    if (int(a[0])%2==0) and (int(a[1])%2==0) and (int(a[2])%2==0):\n",
    "        items.append(a)\n",
    "        \n",
    "print(\",\".join(items))\n",
    "    \n",
    "    \n",
    "    "
   ]
  },
  {
   "cell_type": "code",
   "execution_count": 33,
   "id": "e72c1106",
   "metadata": {},
   "outputs": [
    {
     "name": "stdout",
     "output_type": "stream",
     "text": [
      "RIJAN\n"
     ]
    }
   ],
   "source": [
    "print(\"rijan\".upper())"
   ]
  },
  {
   "cell_type": "code",
   "execution_count": 37,
   "id": "b0c39db4",
   "metadata": {},
   "outputs": [
    {
     "name": "stdout",
     "output_type": "stream",
     "text": [
      "xello India\n"
     ]
    }
   ],
   "source": [
    "string=\"Hello India\"\n",
    "new_string=string.replace(\"H\",\"x\")\n",
    "print(new_string)"
   ]
  },
  {
   "cell_type": "code",
   "execution_count": 45,
   "id": "0b5087e6",
   "metadata": {},
   "outputs": [
    {
     "name": "stdout",
     "output_type": "stream",
     "text": [
      "My name is Sid. I am 16\n"
     ]
    }
   ],
   "source": [
    "age=16\n",
    "txt=\"My name is Sid. I am {}\"\n",
    "print(txt.format(age))"
   ]
  },
  {
   "cell_type": "code",
   "execution_count": 48,
   "id": "5aef6c34",
   "metadata": {},
   "outputs": [
    {
     "name": "stdout",
     "output_type": "stream",
     "text": [
      "300\n"
     ]
    }
   ],
   "source": [
    "#100 when a=b // 200 when a>b // 300\n",
    "a=10\n",
    "b=20\n",
    "if a==b:print(\"100\")\n",
    "elif a>b:print(\"200\")\n",
    "else:print(\"300\")"
   ]
  },
  {
   "cell_type": "code",
   "execution_count": null,
   "id": "4c296361",
   "metadata": {},
   "outputs": [],
   "source": []
  }
 ],
 "metadata": {
  "kernelspec": {
   "display_name": "Python 3 (ipykernel)",
   "language": "python",
   "name": "python3"
  },
  "language_info": {
   "codemirror_mode": {
    "name": "ipython",
    "version": 3
   },
   "file_extension": ".py",
   "mimetype": "text/x-python",
   "name": "python",
   "nbconvert_exporter": "python",
   "pygments_lexer": "ipython3",
   "version": "3.9.7"
  }
 },
 "nbformat": 4,
 "nbformat_minor": 5
}

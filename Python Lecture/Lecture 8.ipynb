{
 "cells": [
  {
   "cell_type": "markdown",
   "id": "a79f3603",
   "metadata": {},
   "source": [
    "## Q1.\n",
    "what could be the expected output of below? If you get an error message, fix the error.\n",
    "\n",
    "    x = 1+2j\n",
    "    if (type(x) == int):\n",
    "        print(\"Type of the variable is Integer\")\n",
    "    elif (type(x) == float):\n",
    "        print(\"Type of the variable is Float\")\n",
    "    elif (type(x) == complex):\n",
    "    print(\"Type of the variable is Complex\")\n",
    "    elif (type(x) == bool):\n",
    "        print(\"Type of the variable is Bool\")\n",
    "    elif (type(x) == str):\n",
    "        print(\"Type of the variable is String\")\n",
    "    elif (type(x) == tuple):\n",
    "        print(\"Type of the variable is Tuple\")\n",
    "    elif (type(x) == dict):\n",
    "        print(\"Type of the variable is Dictionaries\")\n",
    "    elif (type(x) == list):\n",
    "        print(\"Type of the variable is List\")\n",
    "    else:\n",
    "    print(\"Type of the variable is Unknown\")"
   ]
  },
  {
   "cell_type": "code",
   "execution_count": 8,
   "id": "cd5bca9b",
   "metadata": {},
   "outputs": [
    {
     "name": "stdout",
     "output_type": "stream",
     "text": [
      "Type of the variable is Complex\n"
     ]
    }
   ],
   "source": [
    "    x = 1+2j\n",
    "    if (type(x) == int):\n",
    "        print(\"Type of the variable is Integer\")\n",
    "    elif (type(x) == float):\n",
    "        print(\"Type of the variable is Float\")\n",
    "    elif (type(x) == complex):\n",
    "        print(\"Type of the variable is Complex\")\n",
    "    elif (type(x) == bool):\n",
    "        print(\"Type of the variable is Bool\")\n",
    "    elif (type(x) == str):\n",
    "        print(\"Type of the variable is String\")\n",
    "    elif (type(x) == tuple):\n",
    "        print(\"Type of the variable is Tuple\")\n",
    "    elif (type(x) == dict):\n",
    "        print(\"Type of the variable is Dictionaries\")\n",
    "    elif (type(x) == list):\n",
    "        print(\"Type of the variable is List\")\n",
    "    else:\n",
    "        print(\"Type of the variable is Unknown\")"
   ]
  },
  {
   "cell_type": "markdown",
   "id": "7c2025e4",
   "metadata": {},
   "source": [
    "## Q2.\n",
    "\n",
    "What could be the expected outout of below? If you get an error message, fix the error.\n",
    "\n",
    "    age = 20\n",
    "    if (age >= 11):\n",
    "      print (\"You are eligible to see the Lion King.\")\n",
    "      if (age <= 20 or age >= 60):\n",
    "      print(\"Ticket price is 12 dollar\")\n",
    "      else:\n",
    "      print(\"Ticket price is 20 dollar\")\n",
    "    else:\n",
    "        print (\"You're not eligible to buy a ticket.\")"
   ]
  },
  {
   "cell_type": "code",
   "execution_count": 11,
   "id": "92b5f81a",
   "metadata": {},
   "outputs": [
    {
     "name": "stdout",
     "output_type": "stream",
     "text": [
      "You are eligible to see the Lion King.\n",
      "Ticket price is 12 dollar\n"
     ]
    }
   ],
   "source": [
    "age = 20\n",
    "if (age >= 11):\n",
    "    print (\"You are eligible to see the Lion King.\")\n",
    "    if (age <= 20 or age >= 60):\n",
    "        print(\"Ticket price is 12 dollar\")\n",
    "    else:\n",
    "        print(\"Ticket price is 20 dollar\")\n",
    "else:\n",
    "    print (\"You're not eligible to buy a ticket.\")\n",
    "    \n",
    "        \n",
    "    \n",
    "    \n",
    "\n"
   ]
  },
  {
   "cell_type": "markdown",
   "id": "fe111568",
   "metadata": {},
   "source": [
    "## Q3.\n",
    "\n",
    "Create a integer (n)\n",
    "\n",
    "Write an if-else statement (preferably in a single line of code.\n",
    "- if n is greater than 500, n is multiplied by 7, otherwise n is divided by 7"
   ]
  },
  {
   "cell_type": "code",
   "execution_count": 19,
   "id": "43a7100a",
   "metadata": {},
   "outputs": [
    {
     "name": "stdout",
     "output_type": "stream",
     "text": [
      "2.857142857142857\n"
     ]
    }
   ],
   "source": [
    "n = 20\n",
    "if(n>500):\n",
    "    print(n*7)\n",
    "else:\n",
    "    print(n/7)\n"
   ]
  },
  {
   "cell_type": "markdown",
   "id": "0a6c3718",
   "metadata": {},
   "source": [
    "## Q4.\n",
    "Write the below statements programatically.\n",
    "- If it's a summer, I would like to have an Ice-cream, or else if it's winter, I would like to have a warm ginger tea.\n",
    "- in either of the above case, I would like to have a lovely day.\n",
    "    "
   ]
  },
  {
   "cell_type": "code",
   "execution_count": 22,
   "id": "b2e1aab3",
   "metadata": {},
   "outputs": [
    {
     "name": "stdout",
     "output_type": "stream",
     "text": [
      "\n",
      "- If it's a summer, I would like to have an Ice-cream, or else if it's winter, I would like to have a warm ginger tea.\n",
      "- in either of the above case, I would like to have a lovely day.\n",
      "\n"
     ]
    }
   ],
   "source": [
    "a = \"\"\"\n",
    "- If it's a summer, I would like to have an Ice-cream, or else if it's winter, I would like to have a warm ginger tea.\n",
    "- in either of the above case, I would like to have a lovely day.\n",
    "\"\"\"\n",
    "\n",
    "print(a)"
   ]
  },
  {
   "cell_type": "markdown",
   "id": "781b7b65",
   "metadata": {},
   "source": [
    "## Q5.\n",
    "I would like to buy a house for me and my family. As I have checked the market price, price of a house in my locality is around Rs. 20,000,000. I need to opt for a housing loan with certain amount of down payment. So, I approached the local bank with all my credentials. The local bank said, if I have a high income or good credit rating and no criminal record, I need to pay 10% downpayment, alternately 30% down payment.\n",
    "\n",
    "Please write a program with this rule to display the down payment amount if all conditions are met.."
   ]
  },
  {
   "cell_type": "code",
   "execution_count": 35,
   "id": "307ee555",
   "metadata": {},
   "outputs": [
    {
     "name": "stdout",
     "output_type": "stream",
     "text": [
      "As of your record you need to pay down payment of  6000000.0\n"
     ]
    }
   ],
   "source": [
    "price=20000000\n",
    "credit_score = False\n",
    "good_credit_score=(price*0.1)\n",
    "bad_credit_score=(price*0.3)\n",
    "\n",
    "\n",
    "if credit_score is True:\n",
    "    print(\"As of your record you need to pay down payment of \",good_credit_score)\n",
    "else:\n",
    "    print(\"As of your record you need to pay down payment of \",bad_credit_score)\n",
    "\n"
   ]
  },
  {
   "cell_type": "markdown",
   "id": "91d6167f",
   "metadata": {},
   "source": [
    "## Q6.\n",
    "\n",
    "1 lbs = 0.45 kg\n",
    "\n",
    "Write a program for weight conversion either from lbs to kgs or kgs to lbs. Program should interact with user, wherein user has the option to wtite either in kgs or lbs. Program should be able detect and convert the relevant value as per requirement. Remember, user may use capital or small letter and program should automatically detect and convert the values."
   ]
  },
  {
   "cell_type": "code",
   "execution_count": 52,
   "id": "f7bd7084",
   "metadata": {},
   "outputs": [
    {
     "name": "stdout",
     "output_type": "stream",
     "text": [
      "Kgs or Lbs? Lbs\n",
      "Your weight is 88.00 Lbs.\n"
     ]
    }
   ],
   "source": [
    "weight = 40\n",
    "unit = input(\"Kgs or Lbs? \")\n",
    "pound = 2.2\n",
    "converted_weight = float(weight * pound)\n",
    "formatted_float = \"{:.2f}\".format(converted_weight)\n",
    "\n",
    "if unit == \"Kgs\":\n",
    "    print(f\"Your weight is {weight} {unit}\")\n",
    "elif unit == \"Lbs\":\n",
    "    print(f\"Your weight is {formatted_float} {unit}.\")\n",
    "else:\n",
    "    pass"
   ]
  },
  {
   "cell_type": "markdown",
   "id": "a87a145c",
   "metadata": {},
   "source": [
    "## Q7.\n",
    "- Write an user interactive program to convert celsius to farenhit [C/5 = (F-32)/9]"
   ]
  },
  {
   "cell_type": "code",
   "execution_count": 56,
   "id": "6ae91a71",
   "metadata": {},
   "outputs": [
    {
     "name": "stdout",
     "output_type": "stream",
     "text": [
      "47\n",
      "116.60000000000001\n"
     ]
    }
   ],
   "source": [
    "celsius= int(input())\n",
    "fahrenheit = (celsius * 1.8) + 32\n",
    "print(fahrenheit)"
   ]
  },
  {
   "cell_type": "markdown",
   "id": "a4f34eba",
   "metadata": {},
   "source": [
    "## Q8.\n",
    "Write a Python program to construct the following pattern, using a nested for loop.\n",
    "\n",
    "    * \n",
    "    * * \n",
    "    * * * \n",
    "    * * * * \n",
    "    * * * * * \n",
    "    * * * * \n",
    "    * * * \n",
    "    * * \n",
    "    *"
   ]
  },
  {
   "cell_type": "code",
   "execution_count": 74,
   "id": "0882e025",
   "metadata": {},
   "outputs": [
    {
     "name": "stdout",
     "output_type": "stream",
     "text": [
      "*  \n",
      "* *  \n",
      "* * *  \n",
      "* * * *  \n",
      "* * * * *  \n",
      "* * * *  \n",
      "* * *  \n",
      "* *  \n",
      "*  \n",
      " \n"
     ]
    }
   ],
   "source": [
    "rows = 4   \n",
    "for i in range(0, rows+1):   \n",
    "    for j in range(0, i + 1):  \n",
    "        print(\"*\", end=' ')    \n",
    "    print(\" \")  \n",
    "for i in range(rows + 1, 0, -1):  \n",
    "    for j in range(0, i - 1):  \n",
    "        print(\"*\", end=' ')  \n",
    "    print(\" \")  "
   ]
  },
  {
   "cell_type": "markdown",
   "id": "96da7c80",
   "metadata": {},
   "source": [
    "## Q9.\n",
    "Write an interactive Python program using < input() > function that accepts a word from the user and reverse it."
   ]
  },
  {
   "cell_type": "code",
   "execution_count": 59,
   "id": "2b087a19",
   "metadata": {},
   "outputs": [
    {
     "name": "stdout",
     "output_type": "stream",
     "text": [
      "rijan\n",
      "najir\n"
     ]
    }
   ],
   "source": [
    "words=input()\n",
    "rev_words = words[::-1]\n",
    "print(rev_words)"
   ]
  },
  {
   "cell_type": "markdown",
   "id": "cf224881",
   "metadata": {},
   "source": [
    "## Q10.\n",
    "Write a Python program to count the number of even and odd numbers from a series of numbers. \n",
    "- Sample numbers : numbers = (1, 2, 3, 4, 5, 6, 7, 8, 9) \n",
    "\n",
    "Expected Output :\n",
    "- Number of even numbers : 5\n",
    "- Number of odd numbers : 4"
   ]
  },
  {
   "cell_type": "code",
   "execution_count": 63,
   "id": "cf3b3f13",
   "metadata": {},
   "outputs": [
    {
     "name": "stdout",
     "output_type": "stream",
     "text": [
      "Number of even numbers : 4\n",
      "Number of odd numbers : 5\n"
     ]
    }
   ],
   "source": [
    "numbers = (1, 2, 3, 4, 5, 6, 7, 8, 9)\n",
    "count_odd = 0\n",
    "count_even = 0\n",
    "for x in numbers:\n",
    "        if not x % 2:\n",
    "             count_even+=1\n",
    "        else:\n",
    "             count_odd+=1\n",
    "print(\"Number of even numbers :\",count_even)\n",
    "print(\"Number of odd numbers :\",count_odd)"
   ]
  },
  {
   "cell_type": "markdown",
   "id": "9d8ca984",
   "metadata": {},
   "source": [
    "## Q11.\n",
    "Write a Python program that prints all the numbers from 0 to 6 except 3 and 6."
   ]
  },
  {
   "cell_type": "code",
   "execution_count": 61,
   "id": "014f8aa8",
   "metadata": {},
   "outputs": [
    {
     "name": "stdout",
     "output_type": "stream",
     "text": [
      "0\n",
      "1\n",
      "2\n",
      "4\n",
      "5\n",
      "\n",
      "\n"
     ]
    }
   ],
   "source": [
    "for x in range(6):\n",
    "    if (x == 3 or x==6):\n",
    "        continue\n",
    "    print(x)\n",
    "print(\"\\n\")"
   ]
  },
  {
   "cell_type": "markdown",
   "id": "b976446b",
   "metadata": {},
   "source": [
    "## Q12.\n",
    "Write a program to accept a number from a user and calculate the sum of all numbers from 1 to a given number\n",
    "\n",
    "For example, if the user entered 10 the output should be 55 (1+2+3+4+5+6+7+8+9+10)"
   ]
  },
  {
   "cell_type": "code",
   "execution_count": 62,
   "id": "ec2ec4fe",
   "metadata": {},
   "outputs": [
    {
     "name": "stdout",
     "output_type": "stream",
     "text": [
      "Enter number10\n",
      "Sum of numbers is:  55\n"
     ]
    }
   ],
   "source": [
    "n = int(input(\"Enter number\"))\n",
    "sum = 0\n",
    "for num in range(1, n + 1, 1):\n",
    "    sum = sum + num\n",
    "print(\"Sum of numbers is: \", sum)"
   ]
  },
  {
   "cell_type": "markdown",
   "id": "bd987c36",
   "metadata": {},
   "source": [
    "## Q13.\n",
    "Print the following pattern\n",
    "\n",
    "Write a program to use for loop to print the following reverse number pattern\n",
    "\n",
    "    5 4 3 2 1 \n",
    "    4 3 2 1 \n",
    "    3 2 1 \n",
    "    2 1 \n",
    "    1"
   ]
  },
  {
   "cell_type": "code",
   "execution_count": 96,
   "id": "49857692",
   "metadata": {},
   "outputs": [
    {
     "name": "stdout",
     "output_type": "stream",
     "text": [
      "1 2 3 4 5 \n",
      "\n",
      "1 2 3 4 \n",
      "\n",
      "1 2 3 \n",
      "\n",
      "1 2 \n",
      "\n",
      "1 \n",
      "\n"
     ]
    }
   ],
   "source": [
    "rows = 5\n",
    "for i in range(rows, 0, -1):\n",
    "    for j in range(1, i+1):\n",
    "        print(j, end=' ')\n",
    "    print(\"\\n\")"
   ]
  },
  {
   "cell_type": "code",
   "execution_count": null,
   "id": "362a2e0b",
   "metadata": {},
   "outputs": [],
   "source": []
  }
 ],
 "metadata": {
  "kernelspec": {
   "display_name": "Python 3 (ipykernel)",
   "language": "python",
   "name": "python3"
  },
  "language_info": {
   "codemirror_mode": {
    "name": "ipython",
    "version": 3
   },
   "file_extension": ".py",
   "mimetype": "text/x-python",
   "name": "python",
   "nbconvert_exporter": "python",
   "pygments_lexer": "ipython3",
   "version": "3.9.7"
  }
 },
 "nbformat": 4,
 "nbformat_minor": 5
}

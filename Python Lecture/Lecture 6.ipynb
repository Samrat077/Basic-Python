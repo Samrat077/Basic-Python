{
 "cells": [
  {
   "cell_type": "markdown",
   "metadata": {},
   "source": [
    "## Below test having 61 elementary level problems to solve and to be completed within 2 hours\n",
    "### Please use comments within your code block to justify your code wherever possible. You may use Jupyter or VS Code.\n",
    "#### Once completed, please save the file with your namestudentid e.g., ravi002.ipynb and email to raghavendraraju.km@alliance.edu.in \n",
    "\n",
    "##### Please read the below instructions carefully:\n",
    "- You have to attempt all the below problems\n",
    "- please enter a blank code block below each problem to solve the problem.\n",
    "- Please read carefully to understand each problem; many a times, the answer could be hidden in the problem itself.\n",
    "- Use simple and easy to undertand English\n",
    "- If in the case of you finding a bug or error in the already written code, please resolve the issue instead of asking \"error in question\". You must clearly state the problem and the solution you have provided.\n",
    "- please note that, you will be judged not only by writing clear code, but also the logic you apply to solve the problem. Which means, explaining your understanding of the problem and moving towards the right direction to solve the problem is laso important.\n",
    "- Just by writing your answer is not enough in many of the cases; wherever possible, you must run your code successfully to support your answer - remember that, you will be judged by showing your ability to understand & solve a problem and your ability to explain the taken approach"
   ]
  },
  {
   "cell_type": "raw",
   "metadata": {},
   "source": [
    "1. In the Python statement L = p + 7 - q:\n",
    "\n",
    "p and q are ____\n",
    "p + 7 - q is ____\n",
    "\n",
    "- terms of a group\n",
    "- operators, a statement\n",
    "- operands, an equation\n",
    "- operands, an expression"
   ]
  },
  {
   "cell_type": "code",
   "execution_count": null,
   "metadata": {},
   "outputs": [],
   "source": [
    "p and q are operands, an expression\n",
    "p + 7 - q is operators, a statement"
   ]
  },
  {
   "cell_type": "raw",
   "metadata": {},
   "source": [
    "2. The statement below would print a Boolean value, which one?\n",
    "print(bool(\"abc\"))"
   ]
  },
  {
   "cell_type": "code",
   "execution_count": null,
   "metadata": {},
   "outputs": [],
   "source": [
    "print(bool(\"abc\"))"
   ]
  },
  {
   "cell_type": "raw",
   "metadata": {},
   "source": [
    "3. What is the value of the expression 99 / 33?"
   ]
  },
  {
   "cell_type": "code",
   "execution_count": null,
   "metadata": {},
   "outputs": [],
   "source": [
    "print(99 / 33)"
   ]
  },
  {
   "cell_type": "raw",
   "metadata": {},
   "source": [
    "4. Get the first character of the string greet.\n",
    "greet = \"Good Morning India\""
   ]
  },
  {
   "cell_type": "code",
   "execution_count": null,
   "metadata": {},
   "outputs": [],
   "source": [
    "greet = \"Good Morning India\"\n",
    "print(greet[0])"
   ]
  },
  {
   "cell_type": "raw",
   "metadata": {},
   "source": [
    "5. Should you use the == operator to determine whether objects of type float are equal?\n",
    "- not a good idea, result will be False\n",
    "- sure, result will be True\n",
    "hint - 1.2 + 2.3 == 3.5"
   ]
  },
  {
   "cell_type": "code",
   "execution_count": null,
   "metadata": {},
   "outputs": [],
   "source": [
    "expression = (1.2 + 2.3 == 3.5)\n",
    "if expression is True:\n",
    "    print(\"sure, result will be True\")\n",
    "else: \n",
    "     print(\"not a good idea, result will be False\")"
   ]
  },
  {
   "cell_type": "raw",
   "metadata": {},
   "source": [
    "6. Consider the following code snippet:\n",
    "\n",
    "a = 25.0\n",
    "b = (a < 78.0) and isinstance(a, float)\n",
    "\n",
    "If we execute the above code, what is the value of b?\n",
    "- 1\n",
    "- None\n",
    "- False\n",
    "- 0\n",
    "- True"
   ]
  },
  {
   "cell_type": "code",
   "execution_count": null,
   "metadata": {},
   "outputs": [],
   "source": [
    "True"
   ]
  },
  {
   "cell_type": "raw",
   "metadata": {},
   "source": [
    "7. a = 100; b = 200\n",
    "\n",
    "What is the value of the expression a and b?\n",
    "- 100\n",
    "- False\n",
    "- 200\n",
    "- Incorrect\n",
    "- 0\n",
    "- True\n",
    "- none of above"
   ]
  },
  {
   "cell_type": "code",
   "execution_count": null,
   "metadata": {},
   "outputs": [],
   "source": [
    "200"
   ]
  },
  {
   "cell_type": "raw",
   "metadata": {},
   "source": [
    "8. Which of the following operators has the lowest precedence?\n",
    "- +\n",
    "- **\n",
    "- and\n",
    "- not\n",
    "- %\n",
    "- all of above"
   ]
  },
  {
   "cell_type": "code",
   "execution_count": null,
   "metadata": {},
   "outputs": [],
   "source": [
    "**"
   ]
  },
  {
   "cell_type": "raw",
   "metadata": {},
   "source": [
    "10. Get the characters from index 2 to index 4.\n",
    "txt = \"Hello Alliance\""
   ]
  },
  {
   "cell_type": "code",
   "execution_count": null,
   "metadata": {},
   "outputs": [],
   "source": [
    "txt = \"Hello Alliance\"\n"
   ]
  },
  {
   "cell_type": "raw",
   "metadata": {},
   "source": [
    "11. What is the value of the expression 7 + 9 ** 3 * 5?\n",
    "- 54\n",
    "- 97\n",
    "- 3569\n",
    "- 213\n",
    "- non of above"
   ]
  },
  {
   "cell_type": "code",
   "execution_count": null,
   "metadata": {},
   "outputs": [],
   "source": [
    "- non of above"
   ]
  },
  {
   "cell_type": "raw",
   "metadata": {},
   "source": [
    "\n",
    "12. Use the correct membership operator in pace of _ to check if \"Dates\" is present in the fruits object.\n",
    "fruits = [\"Dates\", \"Apple\"]\n",
    "if \"Dates\" _ fruits:\n",
    "  print(\"Yes, Dates is a fruit!\")"
   ]
  },
  {
   "cell_type": "code",
   "execution_count": 8,
   "metadata": {},
   "outputs": [
    {
     "name": "stdout",
     "output_type": "stream",
     "text": [
      "Yes, Dates is a fruit!\n"
     ]
    }
   ],
   "source": [
    "fruits = [\"Dates\", \"Apple\"]\n",
    "if \"Dates\" in fruits:\n",
    "    print(\"Yes, Dates is a fruit!\")"
   ]
  },
  {
   "cell_type": "raw",
   "metadata": {},
   "source": [
    "13. Use the correct comparison operator to check if 18 is not equal to 10.\n",
    "if 18 _ 10:\n",
    "  print(\"18 and 10 is not equal\")"
   ]
  },
  {
   "cell_type": "code",
   "execution_count": 9,
   "metadata": {},
   "outputs": [
    {
     "name": "stdout",
     "output_type": "stream",
     "text": [
      "18 and 10 is not equal\n"
     ]
    }
   ],
   "source": [
    "if 18 != 10:\n",
    "  print(\"18 and 10 is not equal\")"
   ]
  },
  {
   "cell_type": "raw",
   "metadata": {},
   "source": [
    "14. Use the correct logical operator to check if at least one of two statements is True.\n",
    "if 7 == 9 _ 4 == 4:\n",
    "  print(\"At least one of the statements is true\")"
   ]
  },
  {
   "cell_type": "code",
   "execution_count": 16,
   "metadata": {},
   "outputs": [
    {
     "name": "stdout",
     "output_type": "stream",
     "text": [
      "At least one of the statements is true\n"
     ]
    }
   ],
   "source": [
    "\n",
    "if 7 == 9 or 4 == 4:\n",
    "    print(\"At least one of the statements is true\")"
   ]
  },
  {
   "cell_type": "raw",
   "metadata": {},
   "source": [
    "15. Convert the value of below txt to upper case.\n",
    "txt = \"Alliance University\""
   ]
  },
  {
   "cell_type": "code",
   "execution_count": 19,
   "metadata": {},
   "outputs": [
    {
     "name": "stdout",
     "output_type": "stream",
     "text": [
      "ALLIANCE UNIVERSITY\n"
     ]
    }
   ],
   "source": [
    "txt = \"Alliance University\"\n",
    "uppercase_txt = txt.upper()\n",
    "print(uppercase_txt)"
   ]
  },
  {
   "cell_type": "raw",
   "metadata": {},
   "source": [
    "16. Print \"Hello India\" if a is greater than b.\n",
    "a = 39; b = 19\n",
    "_ a _ b _\n",
    "  print(\"Hello India\")"
   ]
  },
  {
   "cell_type": "code",
   "execution_count": 20,
   "metadata": {},
   "outputs": [
    {
     "name": "stdout",
     "output_type": "stream",
     "text": [
      "Hello India\n"
     ]
    }
   ],
   "source": [
    "a = 39\n",
    "b = 19\n",
    "if a>b:\n",
    "    print(\"Hello India\")"
   ]
  },
  {
   "cell_type": "raw",
   "metadata": {},
   "source": [
    "17. write a code block to Print \"Hello Good Morning\" if p is not equal to q."
   ]
  },
  {
   "cell_type": "code",
   "execution_count": 22,
   "metadata": {},
   "outputs": [
    {
     "name": "stdout",
     "output_type": "stream",
     "text": [
      "Hello Good Morning\n"
     ]
    }
   ],
   "source": [
    "p=23\n",
    "q=45\n",
    "if p==q:\n",
    "    print( \"Hello Good Night\")\n",
    "else:\n",
    "    print(\"Hello Good Morning\")"
   ]
  },
  {
   "cell_type": "raw",
   "metadata": {},
   "source": [
    "19. Replace the character H with a X.\n",
    "txt = \"Hello India\""
   ]
  },
  {
   "cell_type": "code",
   "execution_count": 24,
   "metadata": {},
   "outputs": [
    {
     "name": "stdout",
     "output_type": "stream",
     "text": [
      "Xello India\n"
     ]
    }
   ],
   "source": [
    "txt = \"Hello India\"\n",
    "print(txt.replace(\"H\",\"X\"))\n"
   ]
  },
  {
   "cell_type": "raw",
   "metadata": {},
   "source": [
    "20. Insert the correct syntax to add a placeholder for the age parameter.\n",
    "age = 16\n",
    "txt = \"My name is Damini, and I am _\"\n",
    "print(txt.format(age))"
   ]
  },
  {
   "cell_type": "code",
   "execution_count": 26,
   "metadata": {},
   "outputs": [
    {
     "name": "stdout",
     "output_type": "stream",
     "text": [
      "My name is Damini, and I am 16\n"
     ]
    }
   ],
   "source": [
    "age = 16\n",
    "txt = \"My name is Damini, and I am {}\"\n",
    "print(txt.format(age))"
   ]
  },
  {
   "cell_type": "raw",
   "metadata": {},
   "source": [
    "21. Print \"Yes\" if a is equal to b, otherwise print \"No\".\n",
    "a = 39; b = 18\n",
    "_ a _ b_\n",
    "    print(\"Yes\")\n",
    "_ _\n",
    "    print(\"No\")"
   ]
  },
  {
   "cell_type": "code",
   "execution_count": 27,
   "metadata": {},
   "outputs": [
    {
     "name": "stdout",
     "output_type": "stream",
     "text": [
      "No\n"
     ]
    }
   ],
   "source": [
    "a = 39\n",
    "b = 18\n",
    "if a == b:\n",
    "    print(\"Yes\")\n",
    "else:\n",
    "    print(\"No\")"
   ]
  },
  {
   "cell_type": "raw",
   "metadata": {},
   "source": [
    "22. write a code block to Print \"100\" if a is equal to b, print \"200\" if a is greater than b, otherwise print \"300\"."
   ]
  },
  {
   "cell_type": "code",
   "execution_count": 28,
   "metadata": {},
   "outputs": [
    {
     "name": "stdout",
     "output_type": "stream",
     "text": [
      "300\n"
     ]
    }
   ],
   "source": [
    "a=10\n",
    "b=20\n",
    "\n",
    "if a==b:\n",
    "    print(\"100\")\n",
    "elif a>b:\n",
    "    print(\"200\")\n",
    "else:\n",
    "    print(\"300\")"
   ]
  },
  {
   "cell_type": "raw",
   "metadata": {},
   "source": [
    "23. write a code block to Print \"Hiya\" if a is equal to b, and c is equal to d."
   ]
  },
  {
   "cell_type": "code",
   "execution_count": 29,
   "metadata": {},
   "outputs": [
    {
     "name": "stdout",
     "output_type": "stream",
     "text": [
      "hiya\n"
     ]
    }
   ],
   "source": [
    "a=2\n",
    "b=2\n",
    "c=3\n",
    "d=3\n",
    "\n",
    "if a==b and c==d:\n",
    "    print(\"hiya\")\n",
    "else:\n",
    "    print(\"Invalid\")"
   ]
  },
  {
   "cell_type": "raw",
   "metadata": {},
   "source": [
    "24. Insert the correct syntax to convert below x variable into a complex number.\n",
    "x = 9"
   ]
  },
  {
   "cell_type": "code",
   "execution_count": 31,
   "metadata": {},
   "outputs": [
    {
     "name": "stdout",
     "output_type": "stream",
     "text": [
      "9 is of type: <class 'int'>\n",
      "(9+0j) is of type: <class 'complex'>\n"
     ]
    }
   ],
   "source": [
    "x = 9\n",
    "print(x,'is of type:',type(x))\n",
    "\n",
    "x = complex(x)\n",
    "print(x,'is of type:',type(x))"
   ]
  },
  {
   "cell_type": "raw",
   "metadata": {},
   "source": [
    "25. Print \"Hello\" if a is equal to b, or if c is equal to d.\n",
    "if a == b _ c == d:\n",
    "    print(\"Hello\")"
   ]
  },
  {
   "cell_type": "code",
   "execution_count": 32,
   "metadata": {},
   "outputs": [
    {
     "name": "stdout",
     "output_type": "stream",
     "text": [
      "Hello\n"
     ]
    }
   ],
   "source": [
    "a=2\n",
    "b=5\n",
    "c=7\n",
    "d=7\n",
    "\n",
    "if a==b or c==d:\n",
    "     print(\"Hello\")\n",
    "else:\n",
    "    print(\"Invalid\")"
   ]
  },
  {
   "cell_type": "raw",
   "metadata": {},
   "source": [
    "26. If you get an error in below code, find the error and fix the error keeping both lines of code. Explain the reason of error.\n",
    "if 7 > 3:\n",
    "print(\"seven is greater than three!\")"
   ]
  },
  {
   "cell_type": "code",
   "execution_count": 35,
   "metadata": {},
   "outputs": [
    {
     "name": "stdout",
     "output_type": "stream",
     "text": [
      "seven is greater than three!\n"
     ]
    }
   ],
   "source": [
    "if 7 > 3:\n",
    "    print(\"seven is greater than three!\")\n",
    "    \n",
    "    The error was with print function. We have to write print functon inside the if condition."
   ]
  },
  {
   "cell_type": "raw",
   "metadata": {},
   "source": [
    "27. How can you write the below code in one line:\n",
    "if 9 > 5:\n",
    "print(\"Nine is greater than five!\")"
   ]
  },
  {
   "cell_type": "code",
   "execution_count": 36,
   "metadata": {},
   "outputs": [
    {
     "name": "stdout",
     "output_type": "stream",
     "text": [
      "Nine is greater than five! True\n"
     ]
    }
   ],
   "source": [
    "\n",
    "print(\"Nine is greater than five!\",(9>5))"
   ]
  },
  {
   "cell_type": "raw",
   "metadata": {},
   "source": [
    "28. \n",
    "a) what is the output of below code:\n",
    "if 9 > 11:\n",
    "    print(\"Yes\")\n",
    "else\n",
    "    print(\"No\")\n",
    "  \n",
    "b) Write the above expression in one line."
   ]
  },
  {
   "cell_type": "code",
   "execution_count": 38,
   "metadata": {},
   "outputs": [
    {
     "name": "stdout",
     "output_type": "stream",
     "text": [
      "yes False\n"
     ]
    }
   ],
   "source": [
    "print(\"yes\",(9>11))"
   ]
  },
  {
   "cell_type": "code",
   "execution_count": 37,
   "metadata": {},
   "outputs": [
    {
     "name": "stdout",
     "output_type": "stream",
     "text": [
      "No\n"
     ]
    }
   ],
   "source": [
    "if 9 > 11:\n",
    "    print(\"Yes\")\n",
    "else:\n",
    "    print(\"No\")"
   ]
  },
  {
   "cell_type": "raw",
   "metadata": {},
   "source": [
    "29. In the loop, when the item value is \"chocolate\", continue to the next item.\n",
    "flavor = [\"vanila\", \"chocolate\", \"cherry\"]\n",
    "for x in flavor:\n",
    "    if x == \"chocolate\":\n",
    "        __\n",
    "    print(x)"
   ]
  },
  {
   "cell_type": "code",
   "execution_count": 41,
   "metadata": {},
   "outputs": [
    {
     "name": "stdout",
     "output_type": "stream",
     "text": [
      "vanila\n",
      "cherry\n"
     ]
    }
   ],
   "source": [
    "flavor = [\"vanila\", \"chocolate\", \"cherry\"]\n",
    "for x in flavor:\n",
    "    if x == \"chocolate\":\n",
    "        continue\n",
    "    print(x)"
   ]
  },
  {
   "cell_type": "raw",
   "metadata": {},
   "source": [
    "30. Print k as long as k is less than 7.\n",
    "k = 1\n",
    "_ k < 7_\n",
    "  print(k)\n",
    "  k += 1"
   ]
  },
  {
   "cell_type": "code",
   "execution_count": 43,
   "metadata": {},
   "outputs": [
    {
     "name": "stdout",
     "output_type": "stream",
     "text": [
      "1\n",
      "2\n",
      "3\n",
      "4\n",
      "5\n",
      "6\n"
     ]
    }
   ],
   "source": [
    "k = 1\n",
    "while(k < 7):\n",
    "  print(k)\n",
    "  k += 1"
   ]
  },
  {
   "cell_type": "raw",
   "metadata": {},
   "source": [
    "31. stop the above (Q30) loop if k is 5."
   ]
  },
  {
   "cell_type": "code",
   "execution_count": 44,
   "metadata": {},
   "outputs": [
    {
     "name": "stdout",
     "output_type": "stream",
     "text": [
      "1\n",
      "2\n",
      "3\n",
      "4\n",
      "5\n"
     ]
    }
   ],
   "source": [
    "k = 1\n",
    "while(k < 7):\n",
    "    print(k)\n",
    "    if k==5:\n",
    "        break\n",
    "    k += 1"
   ]
  },
  {
   "cell_type": "raw",
   "metadata": {},
   "source": [
    "32. In the loop as in Q31, when k is 5, we would like to continue to the next iteration. kindly complete the below syntax.\n",
    "k = 0\n",
    "while k < 7:\n",
    "  k += 1\n",
    "  if k == 5:\n",
    "      _\n",
    "\n",
    "  print(k)"
   ]
  },
  {
   "cell_type": "code",
   "execution_count": 1,
   "metadata": {},
   "outputs": [
    {
     "name": "stdout",
     "output_type": "stream",
     "text": [
      "1\n",
      "2\n",
      "3\n",
      "4\n",
      "6\n",
      "7\n"
     ]
    }
   ],
   "source": [
    "k = 0\n",
    "while k < 7:\n",
    "    k += 1\n",
    "    if k == 5:\n",
    "        continue\n",
    "\n",
    "    print(k)"
   ]
  },
  {
   "cell_type": "raw",
   "metadata": {},
   "source": [
    "33. Print a message once the condition do not meet.\n",
    "k = 1\n",
    "while k < 7:\n",
    "    print(i)\n",
    "    k += 1\n",
    "_ _\n",
    "    print(\"k is no longer less than 6\")"
   ]
  },
  {
   "cell_type": "code",
   "execution_count": 3,
   "metadata": {},
   "outputs": [
    {
     "name": "stdout",
     "output_type": "stream",
     "text": [
      "1\n",
      "2\n",
      "3\n",
      "4\n",
      "5\n",
      "6\n",
      "k is no longer less than 6\n"
     ]
    }
   ],
   "source": [
    "k = 1\n",
    "while k < 7:\n",
    "    print(k)\n",
    "    k += 1\n",
    "if k>6:\n",
    "    print(\"k is no longer less than 6\")"
   ]
  },
  {
   "cell_type": "raw",
   "metadata": {},
   "source": [
    "34. Use the range function to loop through below code set 6 times.\n",
    "for x in _ :\n",
    "    print(x)"
   ]
  },
  {
   "cell_type": "code",
   "execution_count": 6,
   "metadata": {},
   "outputs": [
    {
     "name": "stdout",
     "output_type": "stream",
     "text": [
      "0\n",
      "1\n",
      "2\n",
      "3\n",
      "4\n",
      "5\n"
     ]
    }
   ],
   "source": [
    "for x in range(0,6) :\n",
    "    print(x)"
   ]
  },
  {
   "cell_type": "raw",
   "metadata": {},
   "source": [
    "35. The following code example would print the data type of q, what data type would that be?\n",
    "q = 11\n",
    "print(type(q))"
   ]
  },
  {
   "cell_type": "code",
   "execution_count": 8,
   "metadata": {},
   "outputs": [
    {
     "name": "stdout",
     "output_type": "stream",
     "text": [
      "<class 'int'>\n"
     ]
    }
   ],
   "source": [
    "q = 11\n",
    "print(type(q))"
   ]
  },
  {
   "cell_type": "raw",
   "metadata": {},
   "source": [
    "36. The following code example would print the data type of x, what data type would that be?\n",
    "x = \"Hello Alliance\"\n",
    "print(type(x))"
   ]
  },
  {
   "cell_type": "code",
   "execution_count": 9,
   "metadata": {},
   "outputs": [
    {
     "name": "stdout",
     "output_type": "stream",
     "text": [
      "<class 'str'>\n"
     ]
    }
   ],
   "source": [
    "x = \"Hello Alliance\"\n",
    "print(type(x))"
   ]
  },
  {
   "cell_type": "raw",
   "metadata": {},
   "source": [
    "37. The following code example would print the data type of x, what data type would that be?\n",
    "a = 39.5\n",
    "print(type(a))"
   ]
  },
  {
   "cell_type": "code",
   "execution_count": 10,
   "metadata": {},
   "outputs": [
    {
     "name": "stdout",
     "output_type": "stream",
     "text": [
      "<class 'float'>\n"
     ]
    }
   ],
   "source": [
    "a = 39.5\n",
    "print(type(a))"
   ]
  },
  {
   "cell_type": "raw",
   "metadata": {},
   "source": [
    "38. The following code example would print the data type of x, what data type would that be?\n",
    "m = [\"Ram\", \"Xavier\", \"Bipasha\"]\n",
    "print(type(m))"
   ]
  },
  {
   "cell_type": "code",
   "execution_count": 11,
   "metadata": {},
   "outputs": [
    {
     "name": "stdout",
     "output_type": "stream",
     "text": [
      "<class 'list'>\n"
     ]
    }
   ],
   "source": [
    "m = [\"Ram\", \"Xavier\", \"Bipasha\"]\n",
    "print(type(m))"
   ]
  },
  {
   "cell_type": "raw",
   "metadata": {},
   "source": [
    "39. Write an example of tuple using the above m variable."
   ]
  },
  {
   "cell_type": "code",
   "execution_count": 12,
   "metadata": {},
   "outputs": [
    {
     "name": "stdout",
     "output_type": "stream",
     "text": [
      "<class 'tuple'>\n"
     ]
    }
   ],
   "source": [
    "m = (\"Ram\", \"Xavier\", \"Bipasha\")\n",
    "print(type(m))"
   ]
  },
  {
   "cell_type": "raw",
   "metadata": {},
   "source": [
    "40. Write an example of dictionary data type."
   ]
  },
  {
   "cell_type": "code",
   "execution_count": 14,
   "metadata": {},
   "outputs": [],
   "source": [
    "\n",
    "my_dict = {}\n",
    "my_dict = {1: 'apple', 2: 'ball'}\n",
    "\n",
    "my_dict = {'name': 'John', 1: [2, 4, 3]}\n",
    "\n",
    "my_dict = dict({1:'apple', 2:'ball'})\n",
    "\n",
    "my_dict = dict([(1,'apple'), (2,'ball')])"
   ]
  },
  {
   "cell_type": "raw",
   "metadata": {},
   "source": [
    "41. Write an example of boolean data type.\n"
   ]
  },
  {
   "cell_type": "code",
   "execution_count": 15,
   "metadata": {},
   "outputs": [
    {
     "data": {
      "text/plain": [
       "bool"
      ]
     },
     "execution_count": 15,
     "metadata": {},
     "output_type": "execute_result"
    }
   ],
   "source": [
    "a = True\n",
    "type(a)\n",
    " \n",
    "b = False\n",
    "type(b)"
   ]
  },
  {
   "cell_type": "raw",
   "metadata": {},
   "source": [
    "42. For two objects m and n, the expression m is n will yield True, if and only if\n",
    "a) m == n\n",
    "b) len(m)==len(n)\n",
    "c) id(m)==id(n)\n",
    "d) all of these"
   ]
  },
  {
   "cell_type": "code",
   "execution_count": null,
   "metadata": {},
   "outputs": [],
   "source": [
    " m == n"
   ]
  },
  {
   "cell_type": "raw",
   "metadata": {},
   "source": [
    "43. Use the add method to add \"orange\" to the fruits set.\n",
    "fruits = {\"grapes\", \"avocado\", \"cherry\"}"
   ]
  },
  {
   "cell_type": "code",
   "execution_count": 17,
   "metadata": {},
   "outputs": [
    {
     "name": "stdout",
     "output_type": "stream",
     "text": [
      "{'grapes', 'avocado', 'cherry', 'orange'}\n"
     ]
    }
   ],
   "source": [
    "fruits = {\"grapes\", \"avocado\", \"cherry\"}\n",
    "fruits.add(\"orange\")\n",
    "print(fruits)"
   ]
  },
  {
   "cell_type": "raw",
   "metadata": {},
   "source": [
    "44. Use the correct method to add multiple items (moreFruits) to the someFruits set.\n",
    "someFruits = {\"grapes\", \"avocado\", \"cherry\"}\n",
    "moreFruits = [\"berry\", \"mango\", \"orange\"]"
   ]
  },
  {
   "cell_type": "code",
   "execution_count": 21,
   "metadata": {},
   "outputs": [
    {
     "name": "stdout",
     "output_type": "stream",
     "text": [
      "None\n"
     ]
    }
   ],
   "source": [
    "someFruits = {\"grapes\", \"avocado\", \"cherry\"}\n",
    "moreFruits = [\"berry\", \"mango\", \"orange\"]\n",
    "someFruits.update(moreFruits)\n",
    "print(someFruits.update(moreFruits))"
   ]
  },
  {
   "cell_type": "raw",
   "metadata": {},
   "source": [
    "45. how can we remove \"icecream\" from the fruits set.\n",
    "fruits = {\"apple\", \"banana\", \"icecream\"}"
   ]
  },
  {
   "cell_type": "code",
   "execution_count": 23,
   "metadata": {},
   "outputs": [
    {
     "name": "stdout",
     "output_type": "stream",
     "text": [
      "{'apple', 'banana'}\n"
     ]
    }
   ],
   "source": [
    "fruits = {\"apple\", \"banana\", \"icecream\"}\n",
    "fruits.remove(\"icecream\")\n",
    "print(fruits)"
   ]
  },
  {
   "cell_type": "raw",
   "metadata": {},
   "source": [
    "46. Use the get method to print the value of the \"model\" key of the car dictionary.\n",
    "\n",
    "Vehicle = {\n",
    "  \"brand\": \"Maruti\",\n",
    "  \"model\": \"Suzuki\",\n",
    "  \"year\": 2018\n",
    "}\n",
    "print()"
   ]
  },
  {
   "cell_type": "code",
   "execution_count": 25,
   "metadata": {},
   "outputs": [
    {
     "name": "stdout",
     "output_type": "stream",
     "text": [
      "Suzuki\n"
     ]
    }
   ],
   "source": [
    "Vehicle = {\n",
    "  \"brand\": \"Maruti\",\n",
    "  \"model\": \"Suzuki\",\n",
    "  \"year\": 2018\n",
    "}\n",
    "print(Vehicle.get(\"model\"))"
   ]
  },
  {
   "cell_type": "raw",
   "metadata": {},
   "source": [
    "47. How do you change the \"year\" in above (Q46) from 2018 to 2022.\n",
    "\n",
    "Vehicle = {\n",
    "  \"brand\": \"Maruti\",\n",
    "  \"model\": \"Suzuki\",\n",
    "  \"year\": 2018\n",
    "}\n",
    "_ = _"
   ]
  },
  {
   "cell_type": "code",
   "execution_count": null,
   "metadata": {},
   "outputs": [],
   "source": []
  },
  {
   "cell_type": "raw",
   "metadata": {},
   "source": [
    "48. How do you add the key/value pair \"color\" : \"yellow\" to the Vehicle dictionary.\n",
    "\n",
    "Vehicle = {\n",
    "  \"brand\": \"Maruti\",\n",
    "  \"model\": \"Suzuki\",\n",
    "  \"year\": 2018\n",
    "}\n",
    "_ _ _"
   ]
  },
  {
   "cell_type": "code",
   "execution_count": 27,
   "metadata": {},
   "outputs": [
    {
     "ename": "AttributeError",
     "evalue": "'dict' object has no attribute 'key'",
     "output_type": "error",
     "traceback": [
      "\u001b[1;31m---------------------------------------------------------------------------\u001b[0m",
      "\u001b[1;31mAttributeError\u001b[0m                            Traceback (most recent call last)",
      "\u001b[1;32m<ipython-input-27-5e8711ce110f>\u001b[0m in \u001b[0;36m<module>\u001b[1;34m()\u001b[0m\n\u001b[0;32m      4\u001b[0m   \u001b[1;34m\"year\"\u001b[0m\u001b[1;33m:\u001b[0m \u001b[1;36m2018\u001b[0m\u001b[1;33m\u001b[0m\u001b[0m\n\u001b[0;32m      5\u001b[0m }\n\u001b[1;32m----> 6\u001b[1;33m \u001b[0mVehicle\u001b[0m\u001b[1;33m.\u001b[0m\u001b[0mkey\u001b[0m\u001b[1;33m[\u001b[0m\u001b[1;36m3\u001b[0m\u001b[1;33m]\u001b[0m\u001b[1;33m=\u001b[0m\u001b[1;34m\"color\"\u001b[0m\u001b[1;33m;\u001b[0m\u001b[1;33m\u001b[0m\u001b[0m\n\u001b[0m\u001b[0;32m      7\u001b[0m \u001b[0mVehicle\u001b[0m\u001b[1;33m.\u001b[0m\u001b[0mvalue\u001b[0m\u001b[1;33m[\u001b[0m\u001b[1;36m3\u001b[0m\u001b[1;33m]\u001b[0m\u001b[1;33m=\u001b[0m\u001b[1;34m\"yellow\"\u001b[0m\u001b[1;33m;\u001b[0m\u001b[1;33m\u001b[0m\u001b[0m\n\u001b[0;32m      8\u001b[0m \u001b[0mprint\u001b[0m\u001b[1;33m(\u001b[0m\u001b[0mVehicle\u001b[0m\u001b[1;33m)\u001b[0m\u001b[1;33m\u001b[0m\u001b[0m\n",
      "\u001b[1;31mAttributeError\u001b[0m: 'dict' object has no attribute 'key'"
     ]
    }
   ],
   "source": [
    "Vehicle = {\n",
    "  \"brand\": \"Maruti\",\n",
    "  \"model\": \"Suzuki\",\n",
    "  \"year\": 2018\n",
    "}\n",
    "Vehicle.key[3]=\"color\";\n",
    "Vehicle.value[3]=\"yellow\";\n",
    "print(Vehicle)"
   ]
  },
  {
   "cell_type": "raw",
   "metadata": {},
   "source": [
    "49. Use the clear method to empty the Vehicle dictionary.\n",
    "\n",
    "Vehicle = {\n",
    "  \"brand\": \"Maruti\",\n",
    "  \"model\": \"Suzuki\",\n",
    "  \"year\": 2018\n",
    "}\n",
    "_"
   ]
  },
  {
   "cell_type": "raw",
   "metadata": {},
   "source": [
    "50. Construct a conditional statement stating you have a variable V, equal to 4. If the value is 'even', you will print V is 'even'. \n",
    "hint - use modulo operator 2, which will return 0 if V is 'even."
   ]
  },
  {
   "cell_type": "code",
   "execution_count": 29,
   "metadata": {},
   "outputs": [
    {
     "name": "stdout",
     "output_type": "stream",
     "text": [
      "even\n"
     ]
    }
   ],
   "source": [
    "v=2\n",
    "if v%2==0:\n",
    "    print(\"even\")\n",
    "else:\n",
    "    print(\"odd\")"
   ]
  },
  {
   "cell_type": "raw",
   "metadata": {},
   "source": [
    "51. Continuing to the previous example (Q50), what if you want to print 'V is odd' when the if condition is false?"
   ]
  },
  {
   "cell_type": "code",
   "execution_count": 31,
   "metadata": {},
   "outputs": [
    {
     "name": "stdout",
     "output_type": "stream",
     "text": [
      "odd\n"
     ]
    }
   ],
   "source": [
    "v=3\n",
    "if v%2==0:\n",
    "    print(\"even\")\n",
    "else:\n",
    "    print(\"odd\")"
   ]
  },
  {
   "cell_type": "raw",
   "metadata": {},
   "source": [
    "52. Explain the below conditions clearly and step by step.\n",
    "t = 3\n",
    "if t % 2 == 0:\n",
    "    print('t is divisable by 2')\n",
    "elif t % 3 == 0:\n",
    "    print('t is divisable by 3')\n",
    "else:\n",
    "    print('t is nether divisable by 2 nor 3')\n"
   ]
  },
  {
   "cell_type": "code",
   "execution_count": null,
   "metadata": {},
   "outputs": [],
   "source": [
    "here in first condion the reminder of 3%2 is not zero\n",
    "here in second condion the reminder of 3%2 is zero so it printed the given result\n",
    "here in last condion the reminder of 3%2 is not zero"
   ]
  },
  {
   "cell_type": "code",
   "execution_count": 32,
   "metadata": {},
   "outputs": [
    {
     "name": "stdout",
     "output_type": "stream",
     "text": [
      "t is divisable by 3\n"
     ]
    }
   ],
   "source": [
    "t = 3\n",
    "if t % 2 == 0:\n",
    "    print('t is divisable by 2')\n",
    "elif t % 3 == 0:\n",
    "    print('t is divisable by 3')\n",
    "else:\n",
    "    print('t is nether divisable by 2 nor 3')\n"
   ]
  },
  {
   "cell_type": "raw",
   "metadata": {},
   "source": [
    "53.\n",
    "\n",
    "a) Run the below program and explain in details about your understanding.\n",
    "\n",
    "numOne = 10; numTwo = 0; numThree = True; numFour = False; numFive = -10;\n",
    "\n",
    "if numOne: print(\"The value of \\\"numOne\\\" is\", numOne)\n",
    "else: print(\"The value of \\\"numOne\\\" is\", numOne)\n",
    "if numTwo: print(\"The value of \\\"numTwo\\\" is\", numTwo)\n",
    "else: print(\"The value of \\\"numTwo\\\" is\", numTwo)\n",
    "if numThree: print(\"The value of \\\"numThree\\\" is\", numThree)\n",
    "else: print(\"The value of \\\"numThree\\\" is\", numThree)\n",
    "if numFour: print(\"The value of \\\"numFour\\\" is\", numFour)\n",
    "else: print(\"The value of \\\"numFour\\\" is\", numFour)\n",
    "if numFive: print(\"The value of \\\"numFive\\\" is\", numFive)\n",
    "else: print(\"The value of \\\"numFive\\\" is\", numFive)\n",
    "\n",
    "b) Write the above program by breaking each line with correct indentation."
   ]
  },
  {
   "cell_type": "code",
   "execution_count": 33,
   "metadata": {},
   "outputs": [
    {
     "name": "stdout",
     "output_type": "stream",
     "text": [
      "The value of \"numOne\" is 10\n",
      "The value of \"numTwo\" is 0\n",
      "The value of \"numThree\" is True\n",
      "The value of \"numFour\" is False\n",
      "The value of \"numFive\" is -10\n"
     ]
    }
   ],
   "source": [
    "numOne = 10; numTwo = 0; numThree = True; numFour = False; numFive = -10;\n",
    "\n",
    "if numOne: print(\"The value of \\\"numOne\\\" is\", numOne)\n",
    "else: print(\"The value of \\\"numOne\\\" is\", numOne)\n",
    "if numTwo: print(\"The value of \\\"numTwo\\\" is\", numTwo)\n",
    "else: print(\"The value of \\\"numTwo\\\" is\", numTwo)\n",
    "if numThree: print(\"The value of \\\"numThree\\\" is\", numThree)\n",
    "else: print(\"The value of \\\"numThree\\\" is\", numThree)\n",
    "if numFour: print(\"The value of \\\"numFour\\\" is\", numFour)\n",
    "else: print(\"The value of \\\"numFour\\\" is\", numFour)\n",
    "if numFive: print(\"The value of \\\"numFive\\\" is\", numFive)\n",
    "else: print(\"The value of \\\"numFive\\\" is\", numFive)"
   ]
  },
  {
   "cell_type": "code",
   "execution_count": null,
   "metadata": {},
   "outputs": [],
   "source": []
  },
  {
   "cell_type": "raw",
   "metadata": {},
   "source": [
    "54. below are the examples of which operators? Name each operator.\n",
    "\n",
    "a = 12\n",
    "b = 7\n",
    "print(\"\\n---------\", a, \"==\", b, \"?--------\")\n",
    "print(a == b)\n",
    "print(\"\\n---------\", a, \"!=\", b, \"?--------\")\n",
    "print(a != b)\n",
    "print(\"\\n---------\", a, \">\", b, \"?--------\")\n",
    "print(a > b)\n",
    "print(\"\\n---------\", a, \"<\", b, \"?--------\")\n",
    "print(a < b)\n",
    "print(\"\\n---------\", a, \">=\", b, \"?--------\")\n",
    "print(a >= b)\n",
    "print(\"\\n---------\", a, \"<=\", b, \"?--------\")\n",
    "print(a <= b)"
   ]
  },
  {
   "cell_type": "raw",
   "metadata": {},
   "source": [
    "55. Provide some examples of logical operators"
   ]
  },
  {
   "cell_type": "code",
   "execution_count": null,
   "metadata": {},
   "outputs": [],
   "source": [
    "Not , And"
   ]
  },
  {
   "cell_type": "raw",
   "metadata": {},
   "source": [
    "56. x = 5; x %= 5\n",
    "what is the value of x?"
   ]
  },
  {
   "cell_type": "code",
   "execution_count": 34,
   "metadata": {},
   "outputs": [
    {
     "name": "stdout",
     "output_type": "stream",
     "text": [
      "0\n"
     ]
    }
   ],
   "source": [
    "x = 5\n",
    "x %= 5\n",
    "print(x)"
   ]
  },
  {
   "cell_type": "raw",
   "metadata": {},
   "source": [
    "57. What is the order of precedence in python?\n",
    "1)  Parentheses\n",
    "2)  Exponential\n",
    "3)  Multiplication\n",
    "4)  Division\n",
    "5)  Addition\n",
    "6)  Subtraction"
   ]
  },
  {
   "cell_type": "code",
   "execution_count": null,
   "metadata": {},
   "outputs": [],
   "source": []
  },
  {
   "cell_type": "raw",
   "metadata": {},
   "source": [
    "58. Explain the order precedence in the following expressions:\n",
    "print(5 * 2 // 3)\n",
    "print(5 * (2 // 3))"
   ]
  },
  {
   "cell_type": "raw",
   "metadata": {},
   "source": [
    "59. Explain the order of precedence in the following expressions:\n",
    "print(2 ** 3 ** 2)\n",
    "print((2 ** 3) ** 2)        "
   ]
  },
  {
   "cell_type": "raw",
   "metadata": {},
   "source": [
    "60. Explain the order of precedence in the following expressions:\n",
    "print(10 - 4 * 2)\n",
    "print((10 - 4) * 2)    "
   ]
  },
  {
   "cell_type": "raw",
   "metadata": {},
   "source": []
  }
 ],
 "metadata": {
  "kernelspec": {
   "display_name": "Python 3",
   "language": "python",
   "name": "python3"
  },
  "language_info": {
   "codemirror_mode": {
    "name": "ipython",
    "version": 3
   },
   "file_extension": ".py",
   "mimetype": "text/x-python",
   "name": "python",
   "nbconvert_exporter": "python",
   "pygments_lexer": "ipython3",
   "version": "3.7.0"
  }
 },
 "nbformat": 4,
 "nbformat_minor": 5
}

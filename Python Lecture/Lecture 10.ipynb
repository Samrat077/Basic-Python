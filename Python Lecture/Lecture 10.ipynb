{
 "cells": [
  {
   "cell_type": "markdown",
   "id": "071a6323",
   "metadata": {},
   "source": [
    "# Object Oriented Programming"
   ]
  },
  {
   "cell_type": "code",
   "execution_count": null,
   "id": "f5901b11",
   "metadata": {},
   "outputs": [],
   "source": [
    "class Student:\n",
    "    def __init__(self,name,age,grade):\n",
    "        self.name=name\n",
    "        self.age=age\n",
    "        self.grade=grade\n",
    "        \n",
    "    def get_grade(self):\n",
    "        return self.grade\n",
    "    \n",
    "class Course:\n",
    "    def __init__(self,name,max_students):\n",
    "        self.name=name\n",
    "        self.max_students=max_students\n",
    "        self.students=[]\n",
    "        \n",
    "    def add_student(self,student):\n",
    "            if len(self.students) < self.max_students:\n",
    "                self.students.append(student)\n",
    "                return True\n",
    "            return False\n",
    "        \n",
    "    def average_grade(self):\n",
    "            pass\n",
    "        \n",
    "studentA = Student(\"rijan\",19,75)\n",
    "studentB = Student(\"ddmkcnjkd\",19,75)\n",
    "studentC = Student(\"xbnz \",19,65)\n",
    "\n",
    "course = Course(\"AI\",10)\n",
    "course.add_student(studentA)\n",
    "course.add_student(studentB)\n",
    "print(course.students[1].name)\n"
   ]
  },
  {
   "cell_type": "code",
   "execution_count": 15,
   "id": "f77630c8",
   "metadata": {},
   "outputs": [
    {
     "name": "stdout",
     "output_type": "stream",
     "text": [
      "Suzuki 2022\n"
     ]
    }
   ],
   "source": [
    "class car:  \n",
    "    def __init__(self, model_name, year):  \n",
    "        self.model_name = model_name  \n",
    "        self.year = year  \n",
    "    def display(self):  \n",
    "        print(self.model_name, self.year)  \n",
    "\n",
    "c = car(\"Suzuki\", 2022)  \n",
    "c.display()  "
   ]
  },
  {
   "cell_type": "code",
   "execution_count": 16,
   "id": "3f3bde82",
   "metadata": {},
   "outputs": [
    {
     "name": "stdout",
     "output_type": "stream",
     "text": [
      "ID: 1000 \n",
      "Name: Reba\n"
     ]
    }
   ],
   "source": [
    "class Student:    \n",
    "    id = 1000   \n",
    "    name = \"Reba\"    \n",
    "    def display (self):    \n",
    "        print(\"ID: %d \\nName: %s\"%(self.id, self.name))    \n",
    "\n",
    "# Creating a stu instance of Employee class  \n",
    "stu = Student()    \n",
    "stu.display()   "
   ]
  },
  {
   "cell_type": "code",
   "execution_count": 18,
   "id": "302365b2",
   "metadata": {},
   "outputs": [
    {
     "name": "stdout",
     "output_type": "stream",
     "text": [
      "Height of Ram is 6\n",
      "Weight of Ram is 60\n",
      "Ram is eating Pizza\n",
      "Height of Steve is 5.9\n",
      "Weight of Steve is 56\n",
      "Steve is eating Big Burger\n"
     ]
    }
   ],
   "source": [
    "class Human:\n",
    "    # instance attributes\n",
    "    def __init__(self, name, height, weight):\n",
    "        self.name = name\n",
    "        self.height = height\n",
    "        self.weight = weight\n",
    "\n",
    "    # instance methods (behaviours)\n",
    "    def eating(self, food):\n",
    "        return \"{} is eating {}\".format(self.name, food)\n",
    "\n",
    "\n",
    "# creating objects of class Human\n",
    "ram = Human(\"Ram\", 6, 60)\n",
    "steve = Human(\"Steve\", 5.9, 56)\n",
    "\n",
    "# accessing object information\n",
    "print(\"Height of {} is {}\".format(ram.name, ram.height))\n",
    "print(\"Weight of {} is {}\".format(ram.name, ram.weight))\n",
    "print(ram.eating(\"Pizza\"))\n",
    "print(\"Height of {} is {}\".format(steve.name, steve.height))\n",
    "print(\"Weight of {} is {}\".format(steve.name, steve.weight))\n",
    "print(steve.eating(\"Big Burger\"))"
   ]
  },
  {
   "cell_type": "code",
   "execution_count": null,
   "id": "6b5e2eeb",
   "metadata": {},
   "outputs": [],
   "source": []
  },
  {
   "cell_type": "code",
   "execution_count": null,
   "id": "8d66265f",
   "metadata": {},
   "outputs": [],
   "source": []
  }
 ],
 "metadata": {
  "kernelspec": {
   "display_name": "Python 3 (ipykernel)",
   "language": "python",
   "name": "python3"
  },
  "language_info": {
   "codemirror_mode": {
    "name": "ipython",
    "version": 3
   },
   "file_extension": ".py",
   "mimetype": "text/x-python",
   "name": "python",
   "nbconvert_exporter": "python",
   "pygments_lexer": "ipython3",
   "version": "3.9.7"
  }
 },
 "nbformat": 4,
 "nbformat_minor": 5
}

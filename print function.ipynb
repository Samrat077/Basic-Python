{
 "cells": [
  {
   "cell_type": "markdown",
   "id": "6cd495bb",
   "metadata": {},
   "source": [
    "print function using parameter"
   ]
  },
  {
   "cell_type": "code",
   "execution_count": 1,
   "id": "0cd48fb6",
   "metadata": {},
   "outputs": [
    {
     "name": "stdout",
     "output_type": "stream",
     "text": [
      "Seri\n",
      "hi,Seri\n"
     ]
    }
   ],
   "source": [
    "#print using end\n",
    "name=input()\n",
    "print(\"hi\",end=\",\")\n",
    "print(name)"
   ]
  },
  {
   "cell_type": "code",
   "execution_count": 2,
   "id": "41ed58fb",
   "metadata": {},
   "outputs": [
    {
     "name": "stdout",
     "output_type": "stream",
     "text": [
      "Seri\n",
      "hi,Seri\n"
     ]
    }
   ],
   "source": [
    "#print using sep\n",
    "name=input()\n",
    "print(\"hi\",name,sep=\",\")"
   ]
  },
  {
   "cell_type": "markdown",
   "id": "f9226ec8",
   "metadata": {},
   "source": [
    "print quotes"
   ]
  },
  {
   "cell_type": "code",
   "execution_count": 3,
   "id": "fa6867f5",
   "metadata": {},
   "outputs": [
    {
     "name": "stdout",
     "output_type": "stream",
     "text": [
      "hi,\"Seri\"\n"
     ]
    }
   ],
   "source": [
    "print('hi,\"Seri\"')"
   ]
  },
  {
   "cell_type": "code",
   "execution_count": 5,
   "id": "bb806644",
   "metadata": {},
   "outputs": [
    {
     "name": "stdout",
     "output_type": "stream",
     "text": [
      "hi,\"Seri\"\n"
     ]
    }
   ],
   "source": [
    "print(\"hi,\\\"Seri\\\"\")"
   ]
  },
  {
   "cell_type": "markdown",
   "id": "e365ab85",
   "metadata": {},
   "source": [
    "Other printing methods"
   ]
  },
  {
   "cell_type": "code",
   "execution_count": 6,
   "id": "005bb9e1",
   "metadata": {},
   "outputs": [
    {
     "name": "stdout",
     "output_type": "stream",
     "text": [
      "hello,Seri\n"
     ]
    }
   ],
   "source": [
    "name=\"Seri\"\n",
    "print(f\"hello,{name}\")"
   ]
  },
  {
   "cell_type": "markdown",
   "id": "c050df87",
   "metadata": {},
   "source": [
    "remove space while printing"
   ]
  },
  {
   "cell_type": "code",
   "execution_count": 12,
   "id": "c249ad5e",
   "metadata": {},
   "outputs": [
    {
     "name": "stdout",
     "output_type": "stream",
     "text": [
      "     alexa   \n",
      "hi,     alexa   \n"
     ]
    }
   ],
   "source": [
    "\n",
    "name=input()\n",
    "print(f\"hi,{name}\")"
   ]
  },
  {
   "cell_type": "code",
   "execution_count": 11,
   "id": "d6472577",
   "metadata": {},
   "outputs": [
    {
     "name": "stdout",
     "output_type": "stream",
     "text": [
      "     alexa   \n",
      "hi,alexa\n"
     ]
    }
   ],
   "source": [
    "name=input()\n",
    "name=name.strip()\n",
    "print(f\"hi,{name}\")"
   ]
  },
  {
   "cell_type": "markdown",
   "id": "6f005210",
   "metadata": {},
   "source": [
    "Playing with str"
   ]
  },
  {
   "cell_type": "code",
   "execution_count": 13,
   "id": "c770c356",
   "metadata": {},
   "outputs": [
    {
     "name": "stdout",
     "output_type": "stream",
     "text": [
      "rijan rayamajhi\n",
      "hi,Rijan rayamajhi\n"
     ]
    }
   ],
   "source": [
    "name=input()\n",
    "name=name.capitalize()\n",
    "print(f\"hi,{name}\")"
   ]
  },
  {
   "cell_type": "code",
   "execution_count": 14,
   "id": "ce15db98",
   "metadata": {},
   "outputs": [
    {
     "name": "stdout",
     "output_type": "stream",
     "text": [
      "rijan rayamajhi\n",
      "hi,Rijan Rayamajhi\n"
     ]
    }
   ],
   "source": [
    "#This looks littel odd so using \n",
    "name=input()\n",
    "name=name.title()\n",
    "print(f\"hi,{name}\")"
   ]
  },
  {
   "cell_type": "code",
   "execution_count": 15,
   "id": "e3813f53",
   "metadata": {},
   "outputs": [
    {
     "name": "stdout",
     "output_type": "stream",
     "text": [
      "     rijan rayamajhi\n",
      "hi,Rijan Rayamajhi\n"
     ]
    }
   ],
   "source": [
    "#channinng the function\n",
    "name=input()\n",
    "name=name.strip().title()\n",
    "print(f\"hi,{name}\")\n"
   ]
  },
  {
   "cell_type": "code",
   "execution_count": 16,
   "id": "d71829ae",
   "metadata": {},
   "outputs": [
    {
     "name": "stdout",
     "output_type": "stream",
     "text": [
      "    rijan rayamajhi\n",
      "hi,Rijan Rayamajhi\n"
     ]
    }
   ],
   "source": [
    "#or you can also do this\n",
    "name=input().strip().title()\n",
    "print(f\"hi,{name}\")"
   ]
  },
  {
   "cell_type": "code",
   "execution_count": 20,
   "id": "2988a8fa",
   "metadata": {},
   "outputs": [
    {
     "name": "stdout",
     "output_type": "stream",
     "text": [
      "   rijan rayamajhi\n",
      "hi,Rijan Rayamajhi\n"
     ]
    }
   ],
   "source": [
    "#or also can be done\n",
    "print(f'hi,{input().strip().title()}')"
   ]
  }
 ],
 "metadata": {
  "kernelspec": {
   "display_name": "Python 3 (ipykernel)",
   "language": "python",
   "name": "python3"
  },
  "language_info": {
   "codemirror_mode": {
    "name": "ipython",
    "version": 3
   },
   "file_extension": ".py",
   "mimetype": "text/x-python",
   "name": "python",
   "nbconvert_exporter": "python",
   "pygments_lexer": "ipython3",
   "version": "3.9.7"
  }
 },
 "nbformat": 4,
 "nbformat_minor": 5
}

{
 "cells": [
  {
   "cell_type": "markdown",
   "id": "439656e9",
   "metadata": {},
   "source": [
    "Data Type\n",
    "-int \n",
    "-float\n",
    "-str"
   ]
  },
  {
   "cell_type": "code",
   "execution_count": 17,
   "id": "c90d5d2d",
   "metadata": {},
   "outputs": [
    {
     "name": "stdout",
     "output_type": "stream",
     "text": [
      "<class 'str'>\n"
     ]
    }
   ],
   "source": [
    "name=\"rijan\"\n",
    "print(type(name))"
   ]
  },
  {
   "cell_type": "code",
   "execution_count": 11,
   "id": "e99ffb5c",
   "metadata": {},
   "outputs": [
    {
     "name": "stdout",
     "output_type": "stream",
     "text": [
      "123\n",
      "3435\n",
      "The sum is 3558\n",
      "The sum is <class 'int'>\n"
     ]
    }
   ],
   "source": [
    "num1=int(input())\n",
    "num2=int(input())\n",
    "sum = num1+num2\n",
    "print(f\"The sum is {sum}\")\n",
    "print(f\"The sum is {type(sum)}\")\n",
    "\n",
    "\n"
   ]
  },
  {
   "cell_type": "code",
   "execution_count": 13,
   "id": "45299da8",
   "metadata": {},
   "outputs": [
    {
     "name": "stdout",
     "output_type": "stream",
     "text": [
      "2.7645\n",
      "4.674\n",
      "The sum is 7.4385\n",
      "The sum is <class 'float'>\n"
     ]
    }
   ],
   "source": [
    "num1=float(input())\n",
    "num2=float(input())\n",
    "sum = num1+num2\n",
    "print(f\"The sum is {sum}\")\n",
    "print(f\"The sum is {type(sum)}\")"
   ]
  },
  {
   "cell_type": "markdown",
   "id": "6f410da1",
   "metadata": {},
   "source": [
    "Playing with float"
   ]
  },
  {
   "cell_type": "code",
   "execution_count": 14,
   "id": "f26750a3",
   "metadata": {},
   "outputs": [
    {
     "name": "stdout",
     "output_type": "stream",
     "text": [
      "2.7645\n",
      "4.674\n",
      "The sum is 7\n"
     ]
    }
   ],
   "source": [
    "#using round\n",
    "\n",
    "num1=float(input())\n",
    "num2=float(input())\n",
    "sum = round(num1+num2)\n",
    "print(f\"The sum is {sum}\")\n"
   ]
  },
  {
   "cell_type": "markdown",
   "id": "d2ba7c76",
   "metadata": {},
   "source": [
    "number formating"
   ]
  },
  {
   "cell_type": "code",
   "execution_count": 16,
   "id": "fdd8c46b",
   "metadata": {},
   "outputs": [
    {
     "name": "stdout",
     "output_type": "stream",
     "text": [
      "3567.344\n",
      "344567.67\n",
      "The sum is 348,135\n"
     ]
    }
   ],
   "source": [
    "\n",
    "#formating\n",
    "num1=float(input())\n",
    "num2=float(input())\n",
    "sum = round(num1+num2)\n",
    "print(f\"The sum is {sum:,}\")\n"
   ]
  },
  {
   "cell_type": "markdown",
   "id": "ecfcffe4",
   "metadata": {},
   "source": [
    "Rounding the output"
   ]
  },
  {
   "cell_type": "code",
   "execution_count": 21,
   "id": "a031151b",
   "metadata": {},
   "outputs": [
    {
     "name": "stdout",
     "output_type": "stream",
     "text": [
      "234\n",
      "754\n",
      "The div is 0.3103448275862069\n"
     ]
    }
   ],
   "source": [
    " #without using round for other operators\n",
    "num1=float(input())\n",
    "num2=float(input())\n",
    "div=num1/num2\n",
    "print(f\"The div is {div}\")"
   ]
  },
  {
   "cell_type": "code",
   "execution_count": 22,
   "id": "3555417c",
   "metadata": {},
   "outputs": [
    {
     "name": "stdout",
     "output_type": "stream",
     "text": [
      "234\n",
      "754\n",
      "The div is 0\n"
     ]
    }
   ],
   "source": [
    " #using round for other operators\n",
    "num1=float(input())\n",
    "num2=float(input())\n",
    "div=round(num1/num2)\n",
    "print(f\"The div is {div}\")\n"
   ]
  },
  {
   "cell_type": "code",
   "execution_count": 23,
   "id": "07e2de40",
   "metadata": {},
   "outputs": [
    {
     "name": "stdout",
     "output_type": "stream",
     "text": [
      "234\n",
      "754\n",
      "The div is 0.31\n"
     ]
    }
   ],
   "source": [
    " #using round for other operators\n",
    "num1=float(input())\n",
    "num2=float(input())\n",
    "div=round(num1/num2,2)\n",
    "print(f\"The div is {div}\")"
   ]
  },
  {
   "cell_type": "code",
   "execution_count": 25,
   "id": "58a964d0",
   "metadata": {},
   "outputs": [
    {
     "name": "stdout",
     "output_type": "stream",
     "text": [
      "234\n",
      "754\n",
      "The div is 0.31\n"
     ]
    }
   ],
   "source": [
    "#or also can be done by\n",
    "num1=float(input())\n",
    "num2=float(input())\n",
    "div=num1/num2\n",
    "print(f\"The div is {div:.2f}\")\n"
   ]
  }
 ],
 "metadata": {
  "kernelspec": {
   "display_name": "Python 3 (ipykernel)",
   "language": "python",
   "name": "python3"
  },
  "language_info": {
   "codemirror_mode": {
    "name": "ipython",
    "version": 3
   },
   "file_extension": ".py",
   "mimetype": "text/x-python",
   "name": "python",
   "nbconvert_exporter": "python",
   "pygments_lexer": "ipython3",
   "version": "3.9.7"
  }
 },
 "nbformat": 4,
 "nbformat_minor": 5
}

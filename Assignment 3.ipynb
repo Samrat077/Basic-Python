{
 "cells": [
  {
   "cell_type": "markdown",
   "id": "b22e96ab",
   "metadata": {},
   "source": [
    "10. Write the python program to print the numbers of the users given list after removing the even numbers from the list in sorted order."
   ]
  },
  {
   "cell_type": "code",
   "execution_count": 42,
   "id": "b42af6cf",
   "metadata": {},
   "outputs": [
    {
     "name": "stdout",
     "output_type": "stream",
     "text": [
      "2,3,4,5,6,7,8\n",
      "[3, 5, 7]\n"
     ]
    }
   ],
   "source": [
    "lst = list(map(int,input().split(\",\")))\n",
    "new_lst = []\n",
    "for i in range(len(lst)):\n",
    "    if lst[i]%2!=0:\n",
    "        new_lst.append(lst[i])\n",
    "    else:\n",
    "        pass\n",
    "        \n",
    "print(new_lst)"
   ]
  },
  {
   "cell_type": "markdown",
   "id": "23b0dde4",
   "metadata": {},
   "source": [
    "9. Write the pyton program ro convert the user list into a dict ...."
   ]
  },
  {
   "cell_type": "code",
   "execution_count": null,
   "id": "73194497",
   "metadata": {},
   "outputs": [],
   "source": [
    "key = list(input())\n",
    "value = list(input())\n",
    "\n",
    "dic = {}\n",
    "\n"
   ]
  },
  {
   "cell_type": "markdown",
   "id": "88a46d6b",
   "metadata": {},
   "source": [
    "8. Write the python program to print all the even number from the range of number as the list.\n"
   ]
  },
  {
   "cell_type": "code",
   "execution_count": 46,
   "id": "8e174667",
   "metadata": {},
   "outputs": [
    {
     "name": "stdout",
     "output_type": "stream",
     "text": [
      "4\n",
      "30\n",
      "[6, 8, 10, 12, 14, 16, 18, 20, 22, 24, 26, 28]\n"
     ]
    }
   ],
   "source": [
    "s_range = int(input())\n",
    "e_range = int(input())\n",
    "\n",
    "_lit = []\n",
    "\n",
    "for i in range(s_range+1,e_range):\n",
    "    if i%2==0:\n",
    "        _lit.append(i)\n",
    "    else:\n",
    "        pass\n",
    "print(_lit)\n",
    "        "
   ]
  }
 ],
 "metadata": {
  "kernelspec": {
   "display_name": "Python 3 (ipykernel)",
   "language": "python",
   "name": "python3"
  },
  "language_info": {
   "codemirror_mode": {
    "name": "ipython",
    "version": 3
   },
   "file_extension": ".py",
   "mimetype": "text/x-python",
   "name": "python",
   "nbconvert_exporter": "python",
   "pygments_lexer": "ipython3",
   "version": "3.9.7"
  }
 },
 "nbformat": 4,
 "nbformat_minor": 5
}

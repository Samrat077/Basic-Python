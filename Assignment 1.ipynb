{
 "cells": [
  {
   "cell_type": "code",
   "execution_count": null,
   "id": "39e494aa",
   "metadata": {},
   "outputs": [],
   "source": [
    "1. "
   ]
  },
  {
   "cell_type": "code",
   "execution_count": null,
   "id": "8fc8f33d",
   "metadata": {},
   "outputs": [],
   "source": []
  },
  {
   "cell_type": "markdown",
   "id": "2027e5f5",
   "metadata": {},
   "source": [
    "2.Python program to find the largest num in the list"
   ]
  },
  {
   "cell_type": "code",
   "execution_count": 20,
   "id": "240ef42a",
   "metadata": {},
   "outputs": [
    {
     "name": "stdout",
     "output_type": "stream",
     "text": [
      "2,3,4,5,6,7,1\n",
      "7\n"
     ]
    }
   ],
   "source": [
    "_list = list(map(str,input().split(\",\")))\n",
    "print(max(_list))"
   ]
  },
  {
   "cell_type": "markdown",
   "id": "5b9064f0",
   "metadata": {},
   "source": [
    "3. while_else"
   ]
  },
  {
   "cell_type": "code",
   "execution_count": 25,
   "id": "6cb887f8",
   "metadata": {},
   "outputs": [
    {
     "name": "stdout",
     "output_type": "stream",
     "text": [
      "United State\n",
      "4\n",
      "United State\n",
      "United State\n",
      "United State\n",
      "United State\n",
      "Count Stop\n"
     ]
    }
   ],
   "source": [
    "_str = input()\n",
    "_int = int(input())\n",
    "\n",
    "count = 0\n",
    "while(count<_int):\n",
    "    count = count + 1\n",
    "    print(_str)\n",
    "else:\n",
    "    print(\"Count Stop\")"
   ]
  },
  {
   "cell_type": "markdown",
   "id": "652cfd9f",
   "metadata": {},
   "source": [
    "4. Creat a student class and undergraduate that will inherit"
   ]
  },
  {
   "cell_type": "code",
   "execution_count": 11,
   "id": "01da8e79",
   "metadata": {},
   "outputs": [
    {
     "name": "stdout",
     "output_type": "stream",
     "text": [
      "Rijan\n",
      "2003/9/12\n",
      "782734479\n",
      "Nepal\n",
      "1300\n",
      "<class '__main__.Undergraduate'>\n",
      "Student Name:  Rijan\n",
      "Student Birth Date:  2003/9/12\n",
      "Student Phone Number:  782734479\n",
      "Student's Address:  Nepal\n",
      "Student's SAT Score:  1300\n"
     ]
    }
   ],
   "source": [
    "# parent abstract class\n",
    "class Student():\n",
    "    def __init__(self, name, DateOfBirth, number, address):\n",
    "        self.name = name\n",
    "        self.DateOfBirth = DateOfBirth\n",
    "        self.number = number\n",
    "        self.address = address\n",
    "        \n",
    "# INHERITANCE\n",
    "# children subclasses inherit the information and also can have their own unique attributes.\n",
    "class Undergraduate(Student):\n",
    "    def __init__(self, name, DateOfBirth, number, address, SatScore):\n",
    "        Student.__init__(self, name, DateOfBirth, number, address)\n",
    "        self.SatScore = SatScore\n",
    "        \n",
    "x = Undergraduate(input(), input(), input(), input(), input())\n",
    "\n",
    "print(type(x))\n",
    "print(\"Student Name: \", x.name)\n",
    "print(\"Student Birth Date: \", x.DateOfBirth)\n",
    "print(\"Student Phone Number: \", x.number)\n",
    "print(\"Student's Address: \", x.address)\n",
    "print(\"Student's SAT Score: \", x.SatScore)"
   ]
  },
  {
   "cell_type": "markdown",
   "id": "83dfcfc2",
   "metadata": {},
   "source": [
    "5. Program to accept string and replace by #"
   ]
  },
  {
   "cell_type": "code",
   "execution_count": 19,
   "id": "bb55beeb",
   "metadata": {},
   "outputs": [
    {
     "name": "stdout",
     "output_type": "stream",
     "text": [
      "I am a python developer\n",
      "I#am#a#python#developer\n"
     ]
    }
   ],
   "source": [
    "_string = input()\n",
    "new_string = _string.replace(\" \",\"#\")\n",
    "print(new_string)"
   ]
  },
  {
   "cell_type": "markdown",
   "id": "e7e9dd6e",
   "metadata": {},
   "source": [
    "6. Write a python program to get list sorted in increasing order by last element in each tupal from given list of non empty tuples"
   ]
  },
  {
   "cell_type": "code",
   "execution_count": 17,
   "id": "4ea2d36d",
   "metadata": {},
   "outputs": [
    {
     "name": "stdout",
     "output_type": "stream",
     "text": [
      "Entre the no...5\n",
      "Enter tuple-1 elements by ,(comma):2,5\n",
      "Enter tuple-2 elements by ,(comma):2,4\n",
      "Enter tuple-3 elements by ,(comma):2,2\n",
      "Enter tuple-4 elements by ,(comma):2,3\n",
      "Enter tuple-5 elements by ,(comma):2,0\n",
      "Given list of tuplrs is: [(2, 5), (2, 4), (2, 2), (2, 3), (2, 0)]\n",
      "Sorted list of tuples is: [(2, 0), (2, 2), (2, 3), (2, 4), (2, 5)]\n"
     ]
    }
   ],
   "source": [
    "def last(n): \n",
    "    return n[-1]\n",
    "\n",
    "def sort_list_last(tuples):\n",
    "    return sorted(tuples, key=last)\n",
    "\n",
    "\n",
    "lst = []\n",
    "n= int(input(\"Entre the no...\"))\n",
    "for i in range(1,n+1):\n",
    "    a = input(f\"Enter tuple-{i} elements by ,(comma):\")\n",
    "    out = tuple(map(int, a.split(\",\")))\n",
    "    lst.append(out)\n",
    "\n",
    "print(f\"Given list of tuplrs is: {lst}\")\n",
    "print(f\"Sorted list of tuples is: {sort_list_last(lst)}\")"
   ]
  },
  {
   "cell_type": "markdown",
   "id": "103b3866",
   "metadata": {},
   "source": [
    "7. Python program to remove dublicate from the user list"
   ]
  },
  {
   "cell_type": "code",
   "execution_count": 15,
   "id": "48e570fd",
   "metadata": {},
   "outputs": [
    {
     "name": "stdout",
     "output_type": "stream",
     "text": [
      "10,20,30,20,10,50,60,40,80,50,40\n",
      "['10', '20', '30', '50', '60', '40', '80']\n"
     ]
    }
   ],
   "source": [
    "_list = list(map(str,input().split(\",\"))) \n",
    "\n",
    "def Remove(duplicate):\n",
    "    final_list = []\n",
    "    for num in duplicate:\n",
    "        if num not in final_list:\n",
    "            final_list.append(num)\n",
    "    return final_list\n",
    "\n",
    "\n",
    "print(Remove(_list))\n"
   ]
  },
  {
   "cell_type": "markdown",
   "id": "23009f0e",
   "metadata": {},
   "source": [
    "8.Write the python program to print all the even number from the range of number as the list."
   ]
  },
  {
   "cell_type": "code",
   "execution_count": 10,
   "id": "b151597c",
   "metadata": {},
   "outputs": [
    {
     "name": "stdout",
     "output_type": "stream",
     "text": [
      "4\n",
      "30\n",
      "[6, 8, 10, 12, 14, 16, 18, 20, 22, 24, 26, 28]\n"
     ]
    }
   ],
   "source": [
    "s_range = int(input())\n",
    "e_range = int(input())\n",
    "\n",
    "_lit = []\n",
    "\n",
    "for i in range(s_range+1,e_range):\n",
    "    if i%2==0:\n",
    "        _lit.append(i)\n",
    "    else:\n",
    "        pass\n",
    "print(_lit)\n",
    "        "
   ]
  },
  {
   "cell_type": "markdown",
   "id": "b7aea218",
   "metadata": {},
   "source": [
    "9. Write the pyton program ro convert the user list into a dict ...."
   ]
  },
  {
   "cell_type": "code",
   "execution_count": 9,
   "id": "335ef01c",
   "metadata": {},
   "outputs": [
    {
     "name": "stdout",
     "output_type": "stream",
     "text": [
      "Name,age,country\n",
      "Rijan,19,Nepal\n",
      "{'Name': 'Rijan', 'age': '19', 'country': 'Nepal'}\n"
     ]
    }
   ],
   "source": [
    "\n",
    "keys = list(map(str,input().split(\",\")))\n",
    "\n",
    "values = list(map(str,input().split(\",\")))\n",
    "\n",
    "\n",
    "# empty dictionary\n",
    "convert = dict()\n",
    "\n",
    "for i in range(len(keys)):\n",
    "    convert.update({keys[i]: values[i]})\n",
    "print(convert)"
   ]
  },
  {
   "cell_type": "markdown",
   "id": "7130c954",
   "metadata": {},
   "source": [
    "10. Write the python program to print the numbers of the users given list after removing the even numbers from the list in sorted order.\n"
   ]
  },
  {
   "cell_type": "code",
   "execution_count": 1,
   "id": "cca7935b",
   "metadata": {},
   "outputs": [
    {
     "name": "stdout",
     "output_type": "stream",
     "text": [
      "2,3,4,5,6\n",
      "[3, 5]\n"
     ]
    }
   ],
   "source": [
    "lst = list(map(int,input().split(\",\")))\n",
    "new_lst = []\n",
    "for i in range(len(lst)):\n",
    "    if lst[i]%2!=0:\n",
    "        new_lst.append(lst[i])\n",
    "    else:\n",
    "        pass\n",
    "        \n",
    "print(new_lst)"
   ]
  }
 ],
 "metadata": {
  "kernelspec": {
   "display_name": "Python 3 (ipykernel)",
   "language": "python",
   "name": "python3"
  },
  "language_info": {
   "codemirror_mode": {
    "name": "ipython",
    "version": 3
   },
   "file_extension": ".py",
   "mimetype": "text/x-python",
   "name": "python",
   "nbconvert_exporter": "python",
   "pygments_lexer": "ipython3",
   "version": "3.9.7"
  }
 },
 "nbformat": 4,
 "nbformat_minor": 5
}

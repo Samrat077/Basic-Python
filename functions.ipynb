{
 "cells": [
  {
   "cell_type": "markdown",
   "id": "1c2ab174",
   "metadata": {},
   "source": [
    "Function always need to be defined at the top"
   ]
  },
  {
   "cell_type": "code",
   "execution_count": 6,
   "id": "2e2ff055",
   "metadata": {},
   "outputs": [
    {
     "name": "stdout",
     "output_type": "stream",
     "text": [
      "Entre your name: rijan\n",
      "hello\n",
      "Rijan\n"
     ]
    }
   ],
   "source": [
    "def obj():\n",
    "    print(\"hello\")\n",
    "\n",
    "\n",
    "name=input(\"Entre your name: \")\n",
    "obj()\n",
    "print(name.capitalize())\n"
   ]
  },
  {
   "cell_type": "code",
   "execution_count": 12,
   "id": "68100e38",
   "metadata": {},
   "outputs": [
    {
     "name": "stdout",
     "output_type": "stream",
     "text": [
      "Good morning! Siri\n"
     ]
    }
   ],
   "source": [
    "def obj(obj_name=\"Siri\"):\n",
    "    print(\"Good morning!\",obj_name)\n",
    "obj()"
   ]
  },
  {
   "cell_type": "code",
   "execution_count": 9,
   "id": "8793b564",
   "metadata": {},
   "outputs": [
    {
     "name": "stdout",
     "output_type": "stream",
     "text": [
      "Entre your name: rijan rayamajhi\n",
      "Good morning! Rijan Rayamajhi\n"
     ]
    }
   ],
   "source": [
    "def obj(obj_name):\n",
    "    print(\"Good morning!\",obj_name)\n",
    "\n",
    "name=input(\"Entre your name: \").title()\n",
    "obj(name)"
   ]
  },
  {
   "cell_type": "code",
   "execution_count": 15,
   "id": "b5f8b57d",
   "metadata": {},
   "outputs": [
    {
     "name": "stdout",
     "output_type": "stream",
     "text": [
      "hello! User\n",
      "Please type in your name: rijan rayamajhi\n",
      "Good Night! Rijan Rayamajhi\n"
     ]
    }
   ],
   "source": [
    "def obj1(msg=\"User\"):\n",
    "    print(\"hello!\",msg)\n",
    "\n",
    "def obj2(User_Name):\n",
    "    print(\"Good Night!\",User_Name)\n",
    "\n",
    "obj1()\n",
    "name=input(\"Please type in your name: \").title()\n",
    "obj2(name)\n",
    "    "
   ]
  },
  {
   "cell_type": "code",
   "execution_count": 17,
   "id": "140062e9",
   "metadata": {},
   "outputs": [
    {
     "name": "stdout",
     "output_type": "stream",
     "text": [
      "hello! User\n",
      "Please type in your name: Alexa\n",
      "Good Night! Alexa\n"
     ]
    }
   ],
   "source": [
    "#or also can be done by\n",
    "def main(msg=\"User\"):\n",
    "    print(\"hello!\",msg)\n",
    "    name=input(\"Please type in your name: \").title()\n",
    "    obj(name)\n",
    "\n",
    "def obj(User_Name):\n",
    "    print(\"Good Night!\",User_Name)\n",
    "\n",
    "main()\n"
   ]
  }
 ],
 "metadata": {
  "kernelspec": {
   "display_name": "Python 3 (ipykernel)",
   "language": "python",
   "name": "python3"
  },
  "language_info": {
   "codemirror_mode": {
    "name": "ipython",
    "version": 3
   },
   "file_extension": ".py",
   "mimetype": "text/x-python",
   "name": "python",
   "nbconvert_exporter": "python",
   "pygments_lexer": "ipython3",
   "version": "3.9.7"
  }
 },
 "nbformat": 4,
 "nbformat_minor": 5
}
